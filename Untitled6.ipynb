{
  "nbformat": 4,
  "nbformat_minor": 0,
  "metadata": {
    "colab": {
      "provenance": [],
      "gpuType": "T4",
      "authorship_tag": "ABX9TyPxACobi4f76mGkcW+5b7Pt",
      "include_colab_link": true
    },
    "kernelspec": {
      "name": "python3",
      "display_name": "Python 3"
    },
    "language_info": {
      "name": "python"
    },
    "accelerator": "GPU"
  },
  "cells": [
    {
      "cell_type": "markdown",
      "metadata": {
        "id": "view-in-github",
        "colab_type": "text"
      },
      "source": [
        "<a href=\"https://colab.research.google.com/github/feuerteufelfw/SOC/blob/main/Untitled6.ipynb\" target=\"_parent\"><img src=\"https://colab.research.google.com/assets/colab-badge.svg\" alt=\"Open In Colab\"/></a>"
      ]
    },
    {
      "cell_type": "markdown",
      "source": [
        "Import der Bibs"
      ],
      "metadata": {
        "id": "URKlxtdCBb_9"
      }
    },
    {
      "cell_type": "code",
      "source": [
        "\n",
        "import numpy as np\n",
        "\n",
        "import tensorflow as tf\n",
        "from tensorflow.keras.models import Sequential\n",
        "from tensorflow.keras.layers import Conv2D, MaxPooling2D, Flatten, Dense, Dropout, BatchNormalization\n",
        "from tensorflow.keras.callbacks import EarlyStopping\n",
        "from tensorflow.keras.utils import to_categorical\n",
        "from itertools import product\n",
        "import requests\n",
        "import random\n",
        "from PIL import Image\n",
        "from io import BytesIO\n",
        "import matplotlib.pyplot as plt"
      ],
      "metadata": {
        "id": "X5crImMmBaNg"
      },
      "execution_count": 1,
      "outputs": []
    },
    {
      "cell_type": "markdown",
      "source": [
        "Test GPU unterstützung"
      ],
      "metadata": {
        "id": "ntJy5Va4Bl69"
      }
    },
    {
      "cell_type": "code",
      "source": [
        "\n",
        "print(\"Num GPUs Available:\", len(tf.config.list_physical_devices('GPU')))\n",
        "gpus = tf.config.list_physical_devices('GPU')\n",
        "print(\"Verwendete Geräte:\", tf.config.list_physical_devices('GPU'))\n"
      ],
      "metadata": {
        "colab": {
          "base_uri": "https://localhost:8080/"
        },
        "id": "iw0jDY0-BoGm",
        "outputId": "3c155471-bd5f-4462-c275-88f2764d2bc3"
      },
      "execution_count": 2,
      "outputs": [
        {
          "output_type": "stream",
          "name": "stdout",
          "text": [
            "Num GPUs Available: 0\n",
            "Verwendete Geräte: []\n"
          ]
        }
      ]
    },
    {
      "cell_type": "markdown",
      "source": [
        "Daten laden"
      ],
      "metadata": {
        "id": "exnnkSFYBrWx"
      }
    },
    {
      "cell_type": "code",
      "source": [
        "\n",
        "(x_train, y_train), (x_test, y_test) = tf.keras.datasets.cifar10.load_data()\n",
        "y_train, y_test = y_train.flatten(), y_test.flatten()\n",
        "mask_train, mask_test = np.isin(y_train, [0,1]), np.isin(y_test, [0,1])\n",
        "x_train, y_train = x_train[mask_train]/255., y_train[mask_train]\n",
        "x_test, y_test = x_test[mask_test]/255., y_test[mask_test]\n",
        "y_train_o, y_test_o = to_categorical(y_train,2), to_categorical(y_test,2)\n"
      ],
      "metadata": {
        "id": "S-Gm4Ai2Bw26"
      },
      "execution_count": 3,
      "outputs": []
    },
    {
      "cell_type": "markdown",
      "source": [
        "Belibiges Bild anzeigen\n"
      ],
      "metadata": {
        "id": "96Q5of4LFap0"
      }
    },
    {
      "cell_type": "code",
      "source": [
        "image_pos = random.randint(1,len(x_train))\n",
        "image = x_train[image_pos]\n",
        "plt.imshow(image)\n",
        "plt.show()\n",
        "\n",
        "print(\"Image Lable:\", str(y_train[image_pos]))"
      ],
      "metadata": {
        "colab": {
          "base_uri": "https://localhost:8080/",
          "height": 447
        },
        "id": "DV23aUAoFdYP",
        "outputId": "522a1405-b0f5-4be7-ce70-b9426dbe5da8"
      },
      "execution_count": 4,
      "outputs": [
        {
          "output_type": "display_data",
          "data": {
            "text/plain": [
              "<Figure size 640x480 with 1 Axes>"
            ],
            "image/png": "[encoded data removed]"
          },
          "metadata": {}
        },
        {
          "output_type": "stream",
          "name": "stdout",
          "text": [
            "Image Lable: 1\n"
          ]
        }
      ]
    },
    {
      "cell_type": "code",
      "source": [],
      "metadata": {
        "id": "GA2kpdKiGMSQ"
      },
      "execution_count": 4,
      "outputs": []
    },
    {
      "cell_type": "markdown",
      "source": [
        "Erster Versuch"
      ],
      "metadata": {
        "id": "RYRL7cbLFoY5"
      }
    },
    {
      "cell_type": "code",
      "source": [
        "\n",
        "y_train, y_test = np.squeeze(y_train), np.squeeze(y_test)\n",
        "class_car, class_plane = 1,0\n",
        "train_mask = (y_train == class_car) | (y_train == class_plane)\n",
        "test_mask = (y_test == class_car) | (y_test == class_plane)\n",
        "y_train = y_train[train_mask]\n",
        "y_test = y_test[test_mask]\n",
        "x_train = x_train[train_mask]\n",
        "x_test = x_test[test_mask]\n",
        "y_train_o = to_categorical(y_train, 2)\n",
        "y_test_o  = to_categorical(y_test,  2)\n",
        "\n",
        "\n"
      ],
      "metadata": {
        "id": "05v6JhQqGNaG"
      },
      "execution_count": 5,
      "outputs": []
    },
    {
      "cell_type": "code",
      "source": [
        "\n",
        "activations = ['sigmoid', 'relu', 'elu', 'tanh']\n",
        "batchsize = [8,64,128]\n",
        "epochs = [20]\n",
        "points = [64,128]\n",
        "hist_act = {}\n",
        "for epoch in epochs:\n",
        "    print(\"Epoch:\" + str(epoch))\n",
        "    for batch in batchsize:\n",
        "        print(\"    Batch:\", str(batch))\n",
        "        for point in points:\n",
        "            print(\"        Points:\",str(point))\n",
        "            for act in activations:\n",
        "                m = Sequential([Flatten(input_shape=(32,32,3)), Dense(point, activation=act), Dense(2, activation='softmax')])\n",
        "                m.compile(optimizer='sgd', loss='categorical_crossentropy', metrics=['accuracy'])\n",
        "                h = m.fit(x_train, y_train_o, validation_data=(x_test,y_test_o), epochs=epoch, batch_size=batch, verbose=1)\n",
        "                print(\"Act:\", act)\n",
        "                eval_loss, eval_accuracy = m.evaluate(x_test, y_test_o)\n",
        "                print(\"Model accuracy: %.2f\" % eval_accuracy)\n",
        "                hist_act[act] = h.history['val_accuracy'][-1]\n",
        "                plt.plot(h.history['accuracy'],'o--')\n",
        "                plt.plot(h.history['val_accuracy'],'o--')\n",
        "                plt.title('model accuracy')\n",
        "                plt.ylabel('accuracy')\n",
        "                plt.xlabel('epoch')\n",
        "                plt.legend(['train', 'test'], loc='upper left')\n",
        "                plt.show()"
      ],
      "metadata": {
        "colab": {
          "base_uri": "https://localhost:8080/"
        },
        "id": "sbtDBZIUFpyd",
        "outputId": "2b84eda2-4f33-4609-a4e0-21c517ca15b1"
      },
      "execution_count": null,
      "outputs": [
        {
          "output_type": "stream",
          "name": "stdout",
          "text": [
            "Epoch:20\n",
            "    Batch: 8\n",
            "        Points: 64\n"
          ]
        },
        {
          "output_type": "stream",
          "name": "stderr",
          "text": [
            "/usr/local/lib/python3.11/dist-packages/keras/src/layers/reshaping/flatten.py:37: UserWarning: Do not pass an `input_shape`/`input_dim` argument to a layer. When using Sequential models, prefer using an `Input(shape)` object as the first layer in the model instead.\n",
            "  super().__init__(**kwargs)\n"
          ]
        },
        {
          "output_type": "stream",
          "name": "stdout",
          "text": [
            "Epoch 1/20\n",
            "\u001b[1m1250/1250\u001b[0m \u001b[32m━━━━━━━━━━━━━━━━━━━━\u001b[0m\u001b[37m\u001b[0m \u001b[1m5s\u001b[0m 3ms/step - accuracy: 0.7308 - loss: 0.5472 - val_accuracy: 0.8145 - val_loss: 0.4272\n",
            "Epoch 2/20\n",
            "\u001b[1m1250/1250\u001b[0m \u001b[32m━━━━━━━━━━━━━━━━━━━━\u001b[0m\u001b[37m\u001b[0m \u001b[1m4s\u001b[0m 4ms/step - accuracy: 0.8034 - loss: 0.4366 - val_accuracy: 0.8145 - val_loss: 0.4039\n",
            "Epoch 3/20\n",
            "\u001b[1m1250/1250\u001b[0m \u001b[32m━━━━━━━━━━━━━━━━━━━━\u001b[0m\u001b[37m\u001b[0m \u001b[1m4s\u001b[0m 3ms/step - accuracy: 0.7956 - loss: 0.4436 - val_accuracy: 0.8210 - val_loss: 0.3957\n",
            "Epoch 4/20\n",
            "\u001b[1m1250/1250\u001b[0m \u001b[32m━━━━━━━━━━━━━━━━━━━━\u001b[0m\u001b[37m\u001b[0m \u001b[1m4s\u001b[0m 3ms/step - accuracy: 0.8143 - loss: 0.4139 - val_accuracy: 0.8350 - val_loss: 0.3856\n",
            "Epoch 5/20\n",
            "\u001b[1m1250/1250\u001b[0m \u001b[32m━━━━━━━━━━━━━━━━━━━━\u001b[0m\u001b[37m\u001b[0m \u001b[1m5s\u001b[0m 4ms/step - accuracy: 0.8120 - loss: 0.4103 - val_accuracy: 0.8325 - val_loss: 0.3752\n",
            "Epoch 6/20\n",
            "\u001b[1m1250/1250\u001b[0m \u001b[32m━━━━━━━━━━━━━━━━━━━━\u001b[0m\u001b[37m\u001b[0m \u001b[1m4s\u001b[0m 3ms/step - accuracy: 0.8220 - loss: 0.3942 - val_accuracy: 0.8405 - val_loss: 0.3670\n",
            "Epoch 7/20\n",
            "\u001b[1m1250/1250\u001b[0m \u001b[32m━━━━━━━━━━━━━━━━━━━━\u001b[0m\u001b[37m\u001b[0m \u001b[1m5s\u001b[0m 3ms/step - accuracy: 0.8261 - loss: 0.3772 - val_accuracy: 0.8365 - val_loss: 0.3619\n",
            "Epoch 8/20\n",
            "\u001b[1m1250/1250\u001b[0m \u001b[32m━━━━━━━━━━━━━━━━━━━━\u001b[0m\u001b[37m\u001b[0m \u001b[1m4s\u001b[0m 4ms/step - accuracy: 0.8373 - loss: 0.3707 - val_accuracy: 0.8305 - val_loss: 0.3691\n",
            "Epoch 9/20\n",
            "\u001b[1m 482/1250\u001b[0m \u001b[32m━━━━━━━\u001b[0m\u001b[37m━━━━━━━━━━━━━\u001b[0m \u001b[1m1s\u001b[0m 2ms/step - accuracy: 0.8436 - loss: 0.3572"
          ]
        }
      ]
    },
    {
      "cell_type": "code",
      "execution_count": null,
      "metadata": {
        "id": "8P-l4X4UuV0k"
      },
      "outputs": [],
      "source": [
        "\n",
        "\n",
        "# === Parameter ===\n",
        "dropouts = [ 0.3]\n",
        "learning_rates = [1e-4]\n",
        "batch_sizes = [8]\n",
        "filters_list = [(32,64), (64,128)]  # mehrschichtig\n",
        "kernel_sizes = [(3,3), (5,5)]  # verschiedene Kernelgrößen\n",
        "optimizers = ['adam', 'sgd', 'rmsprop', 'adagrad']\n",
        "epochs = 30\n",
        "\n",
        "# === Model-Builder ===\n",
        "def build_model(dp, lr, filters, kernel_size, optimizer_name):\n",
        "    optimizer_dict = {\n",
        "        'adam': tf.keras.optimizers.Adam(lr),\n",
        "        'sgd': tf.keras.optimizers.SGD(lr),\n",
        "        'rmsprop': tf.keras.optimizers.RMSprop(lr),\n",
        "        'adagrad': tf.keras.optimizers.Adagrad(lr)\n",
        "    }\n",
        "    model = Sequential([\n",
        "        Conv2D(filters[0], kernel_size, activation='relu',padding='same', input_shape=(32,32,3)),\n",
        "        BatchNormalization(),\n",
        "        MaxPooling2D(),\n",
        "        Conv2D(filters[1], kernel_size, activation='relu',padding='same'),\n",
        "        BatchNormalization(),\n",
        "        MaxPooling2D(),\n",
        "        Flatten(),\n",
        "        Dropout(dp),\n",
        "        Dense(64, activation='relu'),  # größere Dense-Schicht\n",
        "        Dropout(dp),\n",
        "        Dense(2, activation='softmax')\n",
        "    ])\n",
        "    model.compile(optimizer=optimizer_dict[optimizer_name], loss='categorical_crossentropy', metrics=['accuracy'])\n",
        "    return model\n",
        "\n",
        "# === EarlyStopping ===\n",
        "es = EarlyStopping(monitor='val_loss', patience=3, restore_best_weights=True)\n",
        "\n",
        "\n",
        "\n"
      ]
    },
    {
      "cell_type": "markdown",
      "source": [
        "Brute-Force intelligent Parrameter ermitteln"
      ],
      "metadata": {
        "id": "Wwg0Tf5HB7Zg"
      }
    },
    {
      "cell_type": "code",
      "source": [
        "\n",
        "results = []\n",
        "for dp, lr, bs, filters, ks, opt in product(dropouts, learning_rates, batch_sizes, filters_list, kernel_sizes, optimizers):\n",
        "    print(f'Testing: dp={dp}, lr={lr}, bs={bs}, filters={filters}, kernel_size={ks}, optimizer={opt}')\n",
        "    model = build_model(dp, lr, filters, ks, opt)\n",
        "    history = model.fit(x_train, y_train_o,\n",
        "                        epochs=epochs,\n",
        "                        batch_size=bs,\n",
        "                        validation_data=(x_test, y_test_o),\n",
        "                        callbacks=[es], verbose=1)\n",
        "    acc = model.evaluate(x_test, y_test_o, verbose=1)[1]\n",
        "    epochs_run = len(history.history['loss'])\n",
        "    results.append((dp, lr, bs, filters, ks, opt, acc, epochs_run))\n",
        "    print(f'--> accuracy: {acc:.4f} after {epochs_run} epochs')"
      ],
      "metadata": {
        "id": "Nz4V9YeBB4kS"
      },
      "execution_count": null,
      "outputs": []
    },
    {
      "cell_type": "markdown",
      "source": [
        "Bestes Ergebnis anzeigen"
      ],
      "metadata": {
        "id": "GORBdLjECKAF"
      }
    },
    {
      "cell_type": "code",
      "source": [
        "\n",
        "best = max(results, key=lambda x: x[-2])\n",
        "print('\\nBeste Kombination:', best)"
      ],
      "metadata": {
        "id": "ASsjVATGBaGd"
      },
      "execution_count": null,
      "outputs": []
    },
    {
      "cell_type": "markdown",
      "source": [
        "Trainieren des Modells"
      ],
      "metadata": {
        "id": "2uNaDKmlBPLz"
      }
    },
    {
      "cell_type": "code",
      "source": [
        "dp=0.3\n",
        "lr=0.0001\n",
        "bs=8\n",
        "filters=(32, 64)\n",
        "ks=(3, 3)\n",
        "opt= \"adam\"\n",
        "epoche=18\n",
        "print(f'Testing: dp={dp}, lr={lr}, bs={bs}, filters={filters}, kernel_size={ks}, optimizer={opt}')\n",
        "model = build_model(dp, lr, filters, ks, opt)\n",
        "history = model.fit(x_train, y_train_o,\n",
        "                    epochs=epoche,\n",
        "                    batch_size=bs,\n",
        "                    validation_data=(x_test, y_test_o),\n",
        "                    callbacks=[es], verbose=1)\n",
        "acc = model.evaluate(x_test, y_test_o, verbose=1)[1]\n",
        "epochs_run = len(history.history['loss'])\n",
        "results.append((dp, lr, bs, filters, ks, opt, acc, epochs_run))\n",
        "print(f'--> accuracy: {acc:.4f} after {epochs_run} epochs')"
      ],
      "metadata": {
        "id": "4enWmCLQ5Q6b"
      },
      "execution_count": null,
      "outputs": []
    },
    {
      "cell_type": "markdown",
      "source": [
        "Testen mit eigenen Bildern"
      ],
      "metadata": {
        "id": "KOWdlJBNBTIR"
      }
    },
    {
      "cell_type": "code",
      "source": [
        "\n",
        "urls = {\n",
        "    \"img1\":\"https://s2.best-wallpaper.net/wallpaper/3840x2160/1810/Passenger-plane-front-view-flight-clouds_3840x2160.jpg\",\n",
        "    \"img2\":\"https://media.istockphoto.com/id/92042438/de/foto/boeing-737-800-passagier-jet.jpg?s=2048x2048&w=is&k=20&c=xcX2SOzd2vlnqT6jQNHav2JxjxIGvNl84S1Ny-7zzXk=\",\n",
        "    \"img3\":\"https://imgs.search.brave.com/sNB5NmpCutgkqnzyRiGRaqIXdaiN25TQKX7WQSoynIc/rs:fit:860:0:0:0/g:ce/aHR0cHM6Ly93d3cu/YXV0b3Njb3V0MjQu/ZGUvY21zLWNvbnRl/bnQtYXNzZXRzLzNS/S1MyZjA4clJyVldy/a0JzQURUZFgtZDEz/ZWQ2MDdmZWMyMWI5/YTUyMmI0YTFiYTZi/OTA5OGItZmlhdC1w/dW50by1zaWRlLTEx/MDAuanBn\",\n",
        "    \"img4\":\"https://www.fahrzeugbilder.de/1200/ifa-l60-acn-bj-1989-203857.jpg\"}\n",
        "plt.figure(figsize=(8,8))\n",
        "\n",
        "for i, (name, url) in enumerate(urls.items()):\n",
        "    try:\n",
        "        resp = requests.get(url, timeout=10)\n",
        "        resp.raise_for_status()\n",
        "        img = Image.open(BytesIO(resp.content)).convert('RGB')\n",
        "    except Exception as e:\n",
        "        print(f\"Fehler bei {name}: {e}\")\n",
        "        continue\n",
        "\n",
        "    img_resized = img.resize((32, 32))\n",
        "    x = np.array(img_resized) / 255.0\n",
        "    x_batch = x.reshape(1, 32, 32, 3)\n",
        "\n",
        "    pred = model.predict(x_batch)\n",
        "    label = np.argmax(pred, axis=1)[0]\n",
        "    proba = pred[0, label]\n",
        "\n",
        "    # Plotten\n",
        "    plt.subplot(2, 2, i + 1)\n",
        "    plt.imshow(x)\n",
        "    plt.title(f\"{name}: Klasse {label}, P={proba:.2f}\")\n",
        "    plt.axis('off')\n",
        "\n",
        "plt.tight_layout()\n",
        "plt.show()\n",
        "\n"
      ],
      "metadata": {
        "id": "v5kgFJGZ8kXR"
      },
      "execution_count": null,
      "outputs": []
    },
    {
      "cell_type": "code",
      "source": [],
      "metadata": {
        "id": "lz02YDRj-Hg4"
      },
      "execution_count": null,
      "outputs": []
    }
  ]
}