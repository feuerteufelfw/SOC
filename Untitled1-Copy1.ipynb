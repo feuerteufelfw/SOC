{
 "cells": [
  {
   "cell_type": "code",
   "execution_count": null,
   "id": "b8ab909b-1f8e-4504-ba65-31f69c6b9875",
   "metadata": {},
   "outputs": [],
   "source": [
    "\n"
   ]
  },
  {
   "cell_type": "code",
   "execution_count": 1,
   "id": "9a2fa237-304d-47e3-bdc3-3d5658f057cc",
   "metadata": {
    "scrolled": true
   },
   "outputs": [
    {
     "name": "stderr",
     "output_type": "stream",
     "text": [
      "2025-06-11 01:25:14.812422: I tensorflow/core/platform/cpu_feature_guard.cc:210] This TensorFlow binary is optimized to use available CPU instructions in performance-critical operations.\n",
      "To enable the following instructions: AVX2 FMA, in other operations, rebuild TensorFlow with the appropriate compiler flags.\n"
     ]
    }
   ],
   "source": [
    "import tensorflow as tf\n",
    "from tensorflow import keras\n",
    "from keras.preprocessing import image\n",
    "from tensorflow.keras.models import Sequential\n",
    "from tensorflow.keras.layers import Flatten, Dense\n",
    "from tensorflow.keras.models import Model\n",
    "import matplotlib.pyplot as plt\n",
    "from PIL import Image\n",
    "import os\n",
    "import numpy as np\n",
    "from tensorflow.keras.callbacks import EarlyStopping\n",
    "from tensorflow.keras.utils import to_categorical\n",
    "from concurrent.futures import ThreadPoolExecutor, as_completed\n",
    "import random\n",
    "\n",
    "tf.compat.v1.enable_eager_execution()"
   ]
  },
  {
   "cell_type": "code",
   "execution_count": 2,
   "id": "9653a128-3a7f-4c37-9df2-28121ba09476",
   "metadata": {},
   "outputs": [],
   "source": [
    "num_cores = 6\n",
    "tf.config.threading.set_inter_op_parallelism_threads(num_cores)\n",
    "tf.config.threading.set_intra_op_parallelism_threads(num_cores)\n",
    "\n",
    "# Optional: auch OMP und MKL anpassen, damit NumPy & Co. mitziehen\n",
    "os.environ[\"OMP_NUM_THREADS\"]                = str(num_cores)\n",
    "os.environ[\"MKL_NUM_THREADS\"]                = str(num_cores)\n",
    "os.environ[\"TF_INTRA_OP_PARALLELISM_THREADS\"] = str(num_cores)\n",
    "os.environ[\"TF_INTER_OP_PARALLELISM_THREADS\"] = str(num_cores)            # oder num_cores\n"
   ]
  },
  {
   "cell_type": "raw",
   "id": "0af0c03d-d30c-4e13-83d1-1bfb2afcf479",
   "metadata": {},
   "source": [
    "Daten laden"
   ]
  },
  {
   "cell_type": "code",
   "execution_count": 3,
   "id": "2436b60a-e3ba-4ee5-8dd9-77cd800a6ca1",
   "metadata": {},
   "outputs": [],
   "source": [
    "\n",
    "\n",
    "#verwende MNIST-Modul aus keras\n",
    "mnist = tf.keras.datasets.cifar10\n",
    "\n",
    "# lade Datensatz bestehend aus (Trainingspaare), (Testpaare)\n",
    "(x_train, y_train), (x_test, y_test) = mnist.load_data()\n"
   ]
  },
  {
   "cell_type": "raw",
   "id": "b9d2f311-88fa-42b8-acc7-2738d928ff73",
   "metadata": {},
   "source": [
    "Normalisieren"
   ]
  },
  {
   "cell_type": "code",
   "execution_count": 4,
   "id": "34cc918f-d4b7-4fe8-aa76-98371f168126",
   "metadata": {},
   "outputs": [],
   "source": [
    "\n",
    "\n",
    "# Normalisiere die Bilder auf das Intervall  [0, 1]\n",
    "x_train  = x_train / 255.0\n",
    "x_test = x_test / 255.0"
   ]
  },
  {
   "cell_type": "code",
   "execution_count": 5,
   "id": "ac8c4819-f71e-4b8b-8bdb-574a2d0b41ed",
   "metadata": {},
   "outputs": [
    {
     "name": "stdout",
     "output_type": "stream",
     "text": [
      "50000\n"
     ]
    }
   ],
   "source": [
    "print(str(len(x_train)))"
   ]
  },
  {
   "cell_type": "markdown",
   "id": "4e780445-fb53-4397-8c70-6b9d14e96265",
   "metadata": {},
   "source": [
    "Anzeigen eines belibigen Bildes"
   ]
  },
  {
   "cell_type": "code",
   "execution_count": 6,
   "id": "6977517c-739b-4413-866c-7c53b90170cd",
   "metadata": {},
   "outputs": [
    {
     "data": {
      "image/png": "[encoded data removed]",
      "text/plain": [
       "<Figure size 640x480 with 1 Axes>"
      ]
     },
     "metadata": {},
     "output_type": "display_data"
    },
    {
     "name": "stdout",
     "output_type": "stream",
     "text": [
      "Image Lable: [7]\n"
     ]
    }
   ],
   "source": [
    "image_pos = random.randint(1,len(x_train))                \n",
    "image = x_train[image_pos]\n",
    "plt.imshow(image)\n",
    "plt.show()\n",
    "\n",
    "print(\"Image Lable:\", str(y_train[image_pos]))"
   ]
  },
  {
   "cell_type": "raw",
   "id": "d392c2b2-897d-43c9-aee9-1bb61a58540a",
   "metadata": {},
   "source": [
    "Filtern nach Label"
   ]
  },
  {
   "cell_type": "code",
   "execution_count": 7,
   "id": "33bb2756-a5ba-4bec-8bf3-390ac9cd98e1",
   "metadata": {},
   "outputs": [],
   "source": [
    "\n",
    "y_train, y_test = np.squeeze(y_train), np.squeeze(y_test)\n",
    "class_car, class_plane = 1,0\n",
    "train_mask = (y_train == class_car) | (y_train == class_plane)\n",
    "test_mask = (y_test == class_car) | (y_test == class_plane)\n",
    "y_train = y_train[train_mask]\n",
    "y_test = y_test[test_mask]\n",
    "x_train = x_train[train_mask]\n",
    "x_test = x_test[test_mask]\n",
    "y_train_o = to_categorical(y_train, 2)\n",
    "y_test_o  = to_categorical(y_test,  2)"
   ]
  },
  {
   "cell_type": "code",
   "execution_count": 8,
   "id": "2f59ff6e-8cef-4f18-81a2-7ee084ee577f",
   "metadata": {},
   "outputs": [],
   "source": [
    "\n",
    "\n",
    "total_classes = 2 \n",
    "train_vec_labels = keras.utils.to_categorical(y_train, total_classes)\n",
    "test_vec_labels = keras.utils.to_categorical(y_test, total_classes)\n"
   ]
  },
  {
   "cell_type": "raw",
   "id": "44514262-6a69-44ac-ae26-072d262cadc5",
   "metadata": {},
   "source": [
    "Verschiedenste Parameter Testen"
   ]
  },
  {
   "cell_type": "code",
   "execution_count": 9,
   "id": "813dfa0d-222c-4098-8fe2-ff30089fcc2c",
   "metadata": {},
   "outputs": [],
   "source": [
    "\n",
    "activations = ['sigmoid', 'relu', 'elu', 'tanh']\n",
    "batchsize = [8,64,128]\n",
    "epochs = []\n",
    "points = [64,128]\n",
    "hist_act = {}\n",
    "for epoch in epochs:\n",
    "    print(\"Epoch:\" + str(epoch))\n",
    "    for batch in batchsize:\n",
    "        print(\"    Batch:\", str(batch))\n",
    "        for point in points:\n",
    "            print(\"        Points:\",str(point))\n",
    "            for act in activations:\n",
    "                m = Sequential([Flatten(input_shape=(32,32,3)), Dense(point, activation=act), Dense(2, activation='softmax')])\n",
    "                m.compile(optimizer='sgd', loss='categorical_crossentropy', metrics=['accuracy'])\n",
    "                h = m.fit(x_train, train_vec_labels, validation_data=(x_test,test_vec_labels), epochs=epoch, batch_size=batch, verbose=0)\n",
    "                print(\"Act:\", act)\n",
    "                eval_loss, eval_accuracy = m.evaluate(x_test, test_vec_labels)\n",
    "                print(\"Model accuracy: %.2f\" % eval_accuracy)\n",
    "                hist_act[act] = h.history['val_accuracy'][-1]\n",
    "                plt.plot(h.history['accuracy'],'o--')\n",
    "                plt.plot(h.history['val_accuracy'],'o--')\n",
    "                plt.title('model accuracy')\n",
    "                plt.ylabel('accuracy')\n",
    "                plt.xlabel('epoch')\n",
    "                plt.legend(['train', 'test'], loc='upper left')\n",
    "                plt.show()"
   ]
  },
  {
   "cell_type": "code",
   "execution_count": 10,
   "id": "72a8dac9-59fa-4b17-8051-a3ec0c25d185",
   "metadata": {},
   "outputs": [],
   "source": [
    "sgd1 = keras.optimizers.SGD(learning_rate=0.01, weight_decay=1e-6, momentum=0.9)\n",
    "sgd2 = keras.optimizers.SGD(learning_rate=0.01, weight_decay=1e-6, momentum=0.8)\n",
    "sgd3 = keras.optimizers.SGD(learning_rate=0.01, weight_decay=1e-6, momentum=0.7)\n",
    "sgd4 = keras.optimizers.SGD(learning_rate=0.01, weight_decay=1e-5, momentum=0.8)\n",
    "sgd5 = keras.optimizers.SGD(learning_rate=0.02, weight_decay=1e-6, momentum=0.8)\n",
    "sgd6 = keras.optimizers.SGD(learning_rate=0.005, weight_decay=1e-6, momentum=0.8)\n",
    "sgd7 = keras.optimizers.SGD(learning_rate=0.01, weight_decay=1e-7, momentum=0.8)\n",
    "sgd8 = keras.optimizers.SGD(learning_rate=0.01, weight_decay=1e-6, momentum=0.8)\n",
    "sgd9 = keras.optimizers.SGD(learning_rate=0.01, weight_decay=1e-7, momentum=0.9)\n",
    "opts = [sgd1, sgd2, sgd3, sgd4, sgd5, sgd6, sgd7, sgd8, sgd9]"
   ]
  },
  {
   "cell_type": "code",
   "execution_count": 15,
   "id": "3691d447-8186-4867-8cca-5b7bb275b48b",
   "metadata": {},
   "outputs": [
    {
     "name": "stdout",
     "output_type": "stream",
     "text": [
      "ERROR! Session/line number was not unique in database. History logging moved to new session 88\n"
     ]
    }
   ],
   "source": [
    "def train(opt,point,epoch,batch,act,loss):\n",
    "    m = Sequential([Flatten(input_shape=(32,32,3)), Dense(point, activation=act), Dense(2, activation='softmax')])\n",
    "    m.compile(optimizer=opt, loss=loss, metrics=['accuracy'], run_eagerly=True)\n",
    "    h = m.fit(x_train, train_vec_labels, validation_data=(x_test,test_vec_labels), epochs=epoch, batch_size=batch, verbose=1)\n",
    "    print(\"Act:\", act)\n",
    "    eval_loss, eval_accuracy = m.evaluate(x_test, test_vec_labels)\n",
    "    print(\"Model accuracy: %.2f\" % eval_accuracy)\n",
    "    hist_act[act] = h.history['val_accuracy'][-1]\n",
    "    plt.plot(h.history['accuracy'],'o--')\n",
    "    plt.plot(h.history['val_accuracy'],'o--')\n",
    "    plt.title('model accuracy')\n",
    "    plt.ylabel('accuracy')\n",
    "    plt.xlabel('epoch')\n",
    "    plt.legend(['train', 'test'], loc='upper left')\n",
    "    plt.show()"
   ]
  },
  {
   "cell_type": "code",
   "execution_count": 16,
   "id": "e68ee35c-568a-4e40-a6d4-e4f49efd4148",
   "metadata": {},
   "outputs": [],
   "source": [
    "def clone_optimizer(opt):\n",
    "    cfg = opt.get_config()\n",
    "    return type(opt).from_config(cfg)"
   ]
  },
  {
   "cell_type": "code",
   "execution_count": 17,
   "id": "e77f9a3c-7e1c-4f9d-b7fc-d492adcc89c7",
   "metadata": {},
   "outputs": [],
   "source": [
    "def run_experiment(params):\n",
    "    print(\"start_experiment\")\n",
    "    IMG_SIZE=32\n",
    "    opt, point, epoch, batch, act, loss = params\n",
    "    # frischen Optimizer\n",
    "    opt = clone_optimizer(opt)\n",
    "    # Modell bauen & kompilieren\n",
    "    m = Sequential([Flatten(input_shape=(IMG_SIZE,IMG_SIZE,3)),\n",
    "                    Dense(point, activation=act),\n",
    "                    Dense(2, activation='softmax')])\n",
    "    m.compile(optimizer=opt, loss=loss, metrics=['accuracy'], run_eagerly=True)\n",
    "    # Training & Auswertung\n",
    "    early = EarlyStopping(monitor='val_loss', patience=3, restore_best_weights=True)\n",
    "    h = m.fit(x_train, y_train_o,\n",
    "              validation_data=(x_test,y_test_o),\n",
    "              epochs=epoch, batch_size=batch,\n",
    "              callbacks=[early], verbose=0)\n",
    "    loss_val, acc_val = m.evaluate(x_test, y_test_o, verbose=0)\n",
    "    return {\n",
    "        'optimizer': opt.get_config(),\n",
    "        'activation': act,\n",
    "        'loss': loss,\n",
    "        'batch_size': batch,\n",
    "        'points': point,\n",
    "        'val_accuracy': acc_val\n",
    "    }"
   ]
  },
  {
   "cell_type": "code",
   "execution_count": 18,
   "id": "67524fed-db73-466e-a947-a8a183a3602c",
   "metadata": {},
   "outputs": [],
   "source": [
    "point = 128\n",
    "batch = 8\n",
    "epoch = 15\n",
    "losses = [\"categorical_crossentropy\",\"mean_squared_error\"]\n",
    "opts   = [sgd1, sgd2, sgd3, sgd4, sgd5, sgd6, sgd7, sgd8, sgd9]\n",
    "acts   = [\"relu\", \"tanh\"]\n"
   ]
  },
  {
   "cell_type": "code",
   "execution_count": 19,
   "id": "31ee1aaa-7d63-46e3-9f37-3ecaac489e46",
   "metadata": {},
   "outputs": [],
   "source": [
    "# 5. Parameterliste erzeugen\n",
    "\n",
    "tasks = []\n",
    "for act in acts:\n",
    "    for loss in losses:\n",
    "        for opt in opts:\n",
    "            tasks.append((opt, point, epoch, batch, act, loss))"
   ]
  },
  {
   "cell_type": "code",
   "execution_count": 19,
   "id": "8f1823c0-8d35-4776-9911-c79aa345ee05",
   "metadata": {},
   "outputs": [
    {
     "name": "stdout",
     "output_type": "stream",
     "text": [
      "start_experiment\n",
      "start_experiment\n",
      "start_experiment\n",
      "start_experiment\n",
      "start_experiment\n",
      "start_experiment\n"
     ]
    },
    {
     "name": "stderr",
     "output_type": "stream",
     "text": [
      "\n",
      "KeyboardInterrupt\n",
      "\n",
      "\n",
      "KeyboardInterrupt\n",
      "\n"
     ]
    }
   ],
   "source": [
    "\n",
    "\n",
    "# Voraus: clone_optimizer, run_experiment, Datenaufbau wie gehabt oben im Notebook\n",
    "\n",
    "num_threads = 6\n",
    "results = []\n",
    "\n",
    "with ThreadPoolExecutor(max_workers=num_threads) as exe:\n",
    "    # submit nimmt genau einen ‘‘params’’-Eintrag\n",
    "    futures = [exe.submit(run_experiment, p) for p in tasks]\n",
    "\n",
    "    # Ergebnisse abholen, sobald sie fertig sind\n",
    "    for fut in as_completed(futures):\n",
    "        try:\n",
    "            res = fut.result()\n",
    "            print(f\"Done: {res['activation']}/{res['loss']} → {res['val_accuracy']:.4f}\")\n",
    "            results.append(res)\n",
    "        except Exception as e:\n",
    "            print(\"Task error:\", e)\n",
    "\n",
    "# 3. Bestes Ergebnis ermitteln\n",
    "best = max(results, key=lambda x: x['val_accuracy'])\n",
    "print(\"Beste Kombination:\", best)"
   ]
  },
  {
   "cell_type": "code",
   "execution_count": null,
   "id": "ae9e4bf7-37a1-46b6-af34-5b82114a203e",
   "metadata": {},
   "outputs": [],
   "source": [
    "# 6. Parallel ausführen\n",
    "results = []\n",
    "with ProcessPoolExecutor(max_workers=num_cores) as exe:\n",
    "    print(\"hi\")\n",
    "    futures = {exe.submit(run_experiment, t): t for t in tasks}\n",
    "    for fut in as_completed(futures):\n",
    "        print(\"hi\")\n",
    "        try:\n",
    "            res = fut.result()\n",
    "            print(f\"Fertig: act={res['activation']}, loss={res['loss']}, acc={res['val_accuracy']:.4f}\")\n",
    "            results.append(res)\n",
    "        except Exception as e:\n",
    "            print(\"Fehler in Task\", futures[fut], \":\", e)\n",
    "\n",
    "# 7. Bestes Ergebnis\n",
    "best = max(results, key=lambda x: x['val_accuracy'])\n",
    "print(\"\\nBeste Kombi:\", best)"
   ]
  },
  {
   "cell_type": "code",
   "execution_count": null,
   "id": "61b60f3e-23ba-4bc5-8819-47c1a9a94267",
   "metadata": {},
   "outputs": [],
   "source": [
    "\n",
    "point = 128\n",
    "batch= 8\n",
    "epoch = 15\n",
    "losses = [\"categorical_crossentropy\", \"mean_squared_error\"]\n",
    "opts   = [sgd1, sgd2, sgd3, sgd4, sgd5, sgd6, sgd7, sgd8, sgd9]\n",
    "acts   = [\"relu\", \"tanh\"]\n",
    "\n",
    "\n",
    "for act in acts:\n",
    "    print(\"Acts: \", act)\n",
    "    for loss in losses:\n",
    "        print(\"Loss:\", loss)\n",
    "        for opt in opts:\n",
    "            # hier klonen wir den Optimizer, damit keine alten Slot-Variablen stören\n",
    "            fresh_opt = clone_optimizer(opt)\n",
    "            try:\n",
    "                print(\"OPT:\", fresh_opt)\n",
    "                train(fresh_opt, point, epoch, batch, act, loss)\n",
    "            except Exception as e:\n",
    "                print(\"Ein Fehler ist aufgetreten:\", e)"
   ]
  },
  {
   "cell_type": "code",
   "execution_count": null,
   "id": "d63154bf-9711-494f-a3bd-6253702ed039",
   "metadata": {},
   "outputs": [],
   "source": []
  },
  {
   "cell_type": "code",
   "execution_count": null,
   "id": "285e83a7-eb5d-4247-914c-d331500d8a12",
   "metadata": {},
   "outputs": [],
   "source": []
  },
  {
   "cell_type": "code",
   "execution_count": null,
   "id": "e3f5c60f-f683-4315-9ab4-e329f140d9a8",
   "metadata": {},
   "outputs": [],
   "source": []
  },
  {
   "cell_type": "code",
   "execution_count": null,
   "id": "dc2ffbef-12c8-465b-8f24-368a34382315",
   "metadata": {},
   "outputs": [],
   "source": []
  },
  {
   "cell_type": "code",
   "execution_count": null,
   "id": "a14421de-1ec3-44ed-a3e2-e22b3caf749f",
   "metadata": {},
   "outputs": [],
   "source": []
  }
 ],
 "metadata": {
  "kernelspec": {
   "display_name": "Python 3 (ipykernel)",
   "language": "python",
   "name": "python3"
  },
  "language_info": {
   "codemirror_mode": {
    "name": "ipython",
    "version": 3
   },
   "file_extension": ".py",
   "mimetype": "text/x-python",
   "name": "python",
   "nbconvert_exporter": "python",
   "pygments_lexer": "ipython3",
   "version": "3.12.3"
  }
 },
 "nbformat": 4,
 "nbformat_minor": 5
}
