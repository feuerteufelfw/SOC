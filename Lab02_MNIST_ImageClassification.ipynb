{
  "nbformat": 4,
  "nbformat_minor": 0,
  "metadata": {
    "colab": {
      "provenance": [],
      "include_colab_link": true
    },
    "kernelspec": {
      "name": "python3",
      "display_name": "Python 3"
    },
    "language_info": {
      "name": "python"
    }
  },
  "cells": [
    {
      "cell_type": "markdown",
      "metadata": {
        "id": "view-in-github",
        "colab_type": "text"
      },
      "source": [
        "<a href=\"https://colab.research.google.com/github/feuerteufelfw/SOC/blob/main/Lab02_MNIST_ImageClassification.ipynb\" target=\"_parent\"><img src=\"https://colab.research.google.com/assets/colab-badge.svg\" alt=\"Open In Colab\"/></a>"
      ]
    },
    {
      "cell_type": "markdown",
      "source": [
        "# Versuchsvorbereitung 02 - Bildklassifikation mit Neuronalen Netzen\n",
        "\n",
        "##Import der notwendigen Bibliotheken\n",
        "\n"
      ],
      "metadata": {
        "id": "-lNzLALu7nNv"
      }
    },
    {
      "cell_type": "code",
      "source": [
        "import tensorflow as tf\n",
        "from tensorflow import keras\n",
        "from keras.preprocessing import image\n",
        "from tensorflow.keras.models import Sequential\n",
        "from tensorflow.keras.layers import Flatten, Dense\n",
        "from tensorflow.keras.models import Model\n",
        "import matplotlib.pyplot as plt\n",
        "from PIL import Image\n",
        "import numpy as np"
      ],
      "metadata": {
        "id": "7hvryVxT8yYl"
      },
      "execution_count": 178,
      "outputs": []
    },
    {
      "cell_type": "markdown",
      "source": [
        "##Laden und Transformieren des MNIST-Datensatzes"
      ],
      "metadata": {
        "id": "z67rxiJ77xAK"
      }
    },
    {
      "cell_type": "code",
      "source": [
        "#verwende MNIST-Modul aus keras\n",
        "mnist = tf.keras.datasets.cifar10\n",
        "\n",
        "# lade Datensatz bestehend aus (Trainingspaare), (Testpaare)\n",
        "(x_train, y_train), (x_test, y_test) = mnist.load_data()\n"
      ],
      "metadata": {
        "id": "D6QYQCpk7jxR"
      },
      "execution_count": 179,
      "outputs": []
    },
    {
      "cell_type": "markdown",
      "source": [
        "##Vorverarbeitung"
      ],
      "metadata": {
        "id": "Gnn6kscXypZD"
      }
    },
    {
      "cell_type": "markdown",
      "source": [
        "Normalisierung der Pixelwerte, d.h. Transformation der Grauwerte (0...255) auf das Intervall [0..1]"
      ],
      "metadata": {
        "id": "an-3y2gL8Hjz"
      }
    },
    {
      "cell_type": "code",
      "source": [
        "\n",
        "# Normalisiere die Bilder auf das Intervall  [0, 1]\n",
        "x_train  = x_train / 255.0\n",
        "x_test = x_test / 255.0"
      ],
      "metadata": {
        "id": "ML1zMKCR8evS"
      },
      "execution_count": 180,
      "outputs": []
    },
    {
      "cell_type": "markdown",
      "source": [
        "Bild anzeigen"
      ],
      "metadata": {
        "id": "Wit75dpSG5WF"
      }
    },
    {
      "cell_type": "code",
      "source": [
        "example = x_test[5]\n",
        "plt.imshow(example)\n",
        "plt.show()\n",
        "print(str(y_test[5]))"
      ],
      "metadata": {
        "colab": {
          "base_uri": "https://localhost:8080/",
          "height": 447
        },
        "id": "VGZPhVboG7pN",
        "outputId": "8af94232-d152-4fa9-a670-dfce76161d75"
      },
      "execution_count": 181,
      "outputs": [
        {
          "output_type": "display_data",
          "data": {
            "text/plain": [
              "<Figure size 640x480 with 1 Axes>"
            ],
            "image/png": "[encoded data removed]"
          },
          "metadata": {}
        },
        {
          "output_type": "stream",
          "name": "stdout",
          "text": [
            "[6]\n"
          ]
        }
      ]
    },
    {
      "cell_type": "markdown",
      "source": [
        "Filtern der Labels"
      ],
      "metadata": {
        "id": "gnjycWOJHjRV"
      }
    },
    {
      "cell_type": "code",
      "source": [
        "y_train, y_test = np.squeeze(y_train), np.squeeze(y_test)\n",
        "class_car, class_plane = 1,0\n",
        "train_mask = (y_train == class_car) | (y_train == class_plane)\n",
        "test_mask = (y_test == class_car) | (y_test == class_plane)\n",
        "y_train = y_train[train_mask]\n",
        "y_test = y_test[test_mask]\n",
        "x_train = x_train[train_mask]\n",
        "x_test = x_test[test_mask]"
      ],
      "metadata": {
        "id": "h8qmjl2tHfEA"
      },
      "execution_count": 182,
      "outputs": []
    },
    {
      "cell_type": "markdown",
      "source": [
        "Umrechnung der Labels in Vektordarstellung (Hot-Vektor-Encoding)"
      ],
      "metadata": {
        "id": "rWJOIWK2ykeR"
      }
    },
    {
      "cell_type": "code",
      "source": [
        "#Umrechnung der Labels in Vektordarstellung (Hot-Vektor-Encoding)\n",
        "total_classes = 2\n",
        "train_vec_labels = keras.utils.to_categorical(y_train, total_classes)\n",
        "test_vec_labels = keras.utils.to_categorical(y_test, total_classes)\n"
      ],
      "metadata": {
        "id": "GtWj-VqWy3UO"
      },
      "execution_count": 183,
      "outputs": []
    },
    {
      "cell_type": "markdown",
      "source": [
        "##Implementierung des Neuronalen Netzes in TensorFlow"
      ],
      "metadata": {
        "id": "QjkV5xeay6IY"
      }
    },
    {
      "cell_type": "code",
      "source": [
        "#Verwendung des Sequential()-Models\n",
        "#baue das Modell als linearer Stapel von Schichten\n",
        "model = Sequential([\n",
        " Flatten(input_shape=(32,32, 3)),\n",
        " Dense(500, activation='tanh'),\n",
        " Dense(250, activation='softmax'),\n",
        " Dense(2, activation='softmax')\n",
        "])"
      ],
      "metadata": {
        "id": "Nc75foFKzdxZ",
        "colab": {
          "base_uri": "https://localhost:8080/"
        },
        "outputId": "069f597e-4ea9-46fb-8ac6-9d986a6e23f8"
      },
      "execution_count": 184,
      "outputs": [
        {
          "output_type": "stream",
          "name": "stderr",
          "text": [
            "/usr/local/lib/python3.11/dist-packages/keras/src/layers/reshaping/flatten.py:37: UserWarning: Do not pass an `input_shape`/`input_dim` argument to a layer. When using Sequential models, prefer using an `Input(shape)` object as the first layer in the model instead.\n",
            "  super().__init__(**kwargs)\n"
          ]
        }
      ]
    },
    {
      "cell_type": "markdown",
      "source": [
        "##Ausgabe der Modellstruktur- und parameter"
      ],
      "metadata": {
        "id": "bABGKTq_zyl_"
      }
    },
    {
      "cell_type": "code",
      "source": [
        "model.summary()"
      ],
      "metadata": {
        "colab": {
          "base_uri": "https://localhost:8080/",
          "height": 257
        },
        "id": "OaQnKtwsz2GK",
        "outputId": "32bb7102-c406-41b4-b374-d57d64fc4550"
      },
      "execution_count": 185,
      "outputs": [
        {
          "output_type": "display_data",
          "data": {
            "text/plain": [
              "\u001b[1mModel: \"sequential_14\"\u001b[0m\n"
            ],
            "text/html": [
              "<pre style=\"white-space:pre;overflow-x:auto;line-height:normal;font-family:Menlo,'DejaVu Sans Mono',consolas,'Courier New',monospace\"><span style=\"font-weight: bold\">Model: \"sequential_14\"</span>\n",
              "</pre>\n"
            ]
          },
          "metadata": {}
        },
        {
          "output_type": "display_data",
          "data": {
            "text/plain": [
              "┏━━━━━━━━━━━━━━━━━━━━━━━━━━━━━━━━━┳━━━━━━━━━━━━━━━━━━━━━━━━┳━━━━━━━━━━━━━━━┓\n",
              "┃\u001b[1m \u001b[0m\u001b[1mLayer (type)                   \u001b[0m\u001b[1m \u001b[0m┃\u001b[1m \u001b[0m\u001b[1mOutput Shape          \u001b[0m\u001b[1m \u001b[0m┃\u001b[1m \u001b[0m\u001b[1m      Param #\u001b[0m\u001b[1m \u001b[0m┃\n",
              "┡━━━━━━━━━━━━━━━━━━━━━━━━━━━━━━━━━╇━━━━━━━━━━━━━━━━━━━━━━━━╇━━━━━━━━━━━━━━━┩\n",
              "│ flatten_14 (\u001b[38;5;33mFlatten\u001b[0m)            │ (\u001b[38;5;45mNone\u001b[0m, \u001b[38;5;34m3072\u001b[0m)           │             \u001b[38;5;34m0\u001b[0m │\n",
              "├─────────────────────────────────┼────────────────────────┼───────────────┤\n",
              "│ dense_40 (\u001b[38;5;33mDense\u001b[0m)                │ (\u001b[38;5;45mNone\u001b[0m, \u001b[38;5;34m500\u001b[0m)            │     \u001b[38;5;34m1,536,500\u001b[0m │\n",
              "├─────────────────────────────────┼────────────────────────┼───────────────┤\n",
              "│ dense_41 (\u001b[38;5;33mDense\u001b[0m)                │ (\u001b[38;5;45mNone\u001b[0m, \u001b[38;5;34m250\u001b[0m)            │       \u001b[38;5;34m125,250\u001b[0m │\n",
              "├─────────────────────────────────┼────────────────────────┼───────────────┤\n",
              "│ dense_42 (\u001b[38;5;33mDense\u001b[0m)                │ (\u001b[38;5;45mNone\u001b[0m, \u001b[38;5;34m2\u001b[0m)              │           \u001b[38;5;34m502\u001b[0m │\n",
              "└─────────────────────────────────┴────────────────────────┴───────────────┘\n"
            ],
            "text/html": [
              "<pre style=\"white-space:pre;overflow-x:auto;line-height:normal;font-family:Menlo,'DejaVu Sans Mono',consolas,'Courier New',monospace\">┏━━━━━━━━━━━━━━━━━━━━━━━━━━━━━━━━━┳━━━━━━━━━━━━━━━━━━━━━━━━┳━━━━━━━━━━━━━━━┓\n",
              "┃<span style=\"font-weight: bold\"> Layer (type)                    </span>┃<span style=\"font-weight: bold\"> Output Shape           </span>┃<span style=\"font-weight: bold\">       Param # </span>┃\n",
              "┡━━━━━━━━━━━━━━━━━━━━━━━━━━━━━━━━━╇━━━━━━━━━━━━━━━━━━━━━━━━╇━━━━━━━━━━━━━━━┩\n",
              "│ flatten_14 (<span style=\"color: #0087ff; text-decoration-color: #0087ff\">Flatten</span>)            │ (<span style=\"color: #00d7ff; text-decoration-color: #00d7ff\">None</span>, <span style=\"color: #00af00; text-decoration-color: #00af00\">3072</span>)           │             <span style=\"color: #00af00; text-decoration-color: #00af00\">0</span> │\n",
              "├─────────────────────────────────┼────────────────────────┼───────────────┤\n",
              "│ dense_40 (<span style=\"color: #0087ff; text-decoration-color: #0087ff\">Dense</span>)                │ (<span style=\"color: #00d7ff; text-decoration-color: #00d7ff\">None</span>, <span style=\"color: #00af00; text-decoration-color: #00af00\">500</span>)            │     <span style=\"color: #00af00; text-decoration-color: #00af00\">1,536,500</span> │\n",
              "├─────────────────────────────────┼────────────────────────┼───────────────┤\n",
              "│ dense_41 (<span style=\"color: #0087ff; text-decoration-color: #0087ff\">Dense</span>)                │ (<span style=\"color: #00d7ff; text-decoration-color: #00d7ff\">None</span>, <span style=\"color: #00af00; text-decoration-color: #00af00\">250</span>)            │       <span style=\"color: #00af00; text-decoration-color: #00af00\">125,250</span> │\n",
              "├─────────────────────────────────┼────────────────────────┼───────────────┤\n",
              "│ dense_42 (<span style=\"color: #0087ff; text-decoration-color: #0087ff\">Dense</span>)                │ (<span style=\"color: #00d7ff; text-decoration-color: #00d7ff\">None</span>, <span style=\"color: #00af00; text-decoration-color: #00af00\">2</span>)              │           <span style=\"color: #00af00; text-decoration-color: #00af00\">502</span> │\n",
              "└─────────────────────────────────┴────────────────────────┴───────────────┘\n",
              "</pre>\n"
            ]
          },
          "metadata": {}
        },
        {
          "output_type": "display_data",
          "data": {
            "text/plain": [
              "\u001b[1m Total params: \u001b[0m\u001b[38;5;34m1,662,252\u001b[0m (6.34 MB)\n"
            ],
            "text/html": [
              "<pre style=\"white-space:pre;overflow-x:auto;line-height:normal;font-family:Menlo,'DejaVu Sans Mono',consolas,'Courier New',monospace\"><span style=\"font-weight: bold\"> Total params: </span><span style=\"color: #00af00; text-decoration-color: #00af00\">1,662,252</span> (6.34 MB)\n",
              "</pre>\n"
            ]
          },
          "metadata": {}
        },
        {
          "output_type": "display_data",
          "data": {
            "text/plain": [
              "\u001b[1m Trainable params: \u001b[0m\u001b[38;5;34m1,662,252\u001b[0m (6.34 MB)\n"
            ],
            "text/html": [
              "<pre style=\"white-space:pre;overflow-x:auto;line-height:normal;font-family:Menlo,'DejaVu Sans Mono',consolas,'Courier New',monospace\"><span style=\"font-weight: bold\"> Trainable params: </span><span style=\"color: #00af00; text-decoration-color: #00af00\">1,662,252</span> (6.34 MB)\n",
              "</pre>\n"
            ]
          },
          "metadata": {}
        },
        {
          "output_type": "display_data",
          "data": {
            "text/plain": [
              "\u001b[1m Non-trainable params: \u001b[0m\u001b[38;5;34m0\u001b[0m (0.00 B)\n"
            ],
            "text/html": [
              "<pre style=\"white-space:pre;overflow-x:auto;line-height:normal;font-family:Menlo,'DejaVu Sans Mono',consolas,'Courier New',monospace\"><span style=\"font-weight: bold\"> Non-trainable params: </span><span style=\"color: #00af00; text-decoration-color: #00af00\">0</span> (0.00 B)\n",
              "</pre>\n"
            ]
          },
          "metadata": {}
        }
      ]
    },
    {
      "cell_type": "markdown",
      "source": [
        "##Konfiguration und Kompilieren des Modells"
      ],
      "metadata": {
        "id": "ib0aC3gVz_ZM"
      }
    },
    {
      "cell_type": "code",
      "source": [
        "opt = keras.optimizers.SGD(\n",
        "      learning_rate=0.01,\n",
        "      weight_decay=1e-6,\n",
        "      momentum=0.9)\n",
        "model.compile(optimizer=opt,\n",
        "              #loss='mean_squared_error',\n",
        "              loss='categorical_crossentropy',\n",
        "              metrics=['accuracy'])\n",
        "history = model.fit(x_train, train_vec_labels, validation_data=(x_test, test_vec_labels), epochs=15, batch_size=32, verbose=True)"
      ],
      "metadata": {
        "id": "Mhar8h1a0Dti",
        "colab": {
          "base_uri": "https://localhost:8080/"
        },
        "outputId": "b50210da-eab4-40fb-cb1a-2ffa815d3605"
      },
      "execution_count": 186,
      "outputs": [
        {
          "output_type": "stream",
          "name": "stdout",
          "text": [
            "Epoch 1/15\n",
            "\u001b[1m313/313\u001b[0m \u001b[32m━━━━━━━━━━━━━━━━━━━━\u001b[0m\u001b[37m\u001b[0m \u001b[1m7s\u001b[0m 21ms/step - accuracy: 0.5807 - loss: 0.6692 - val_accuracy: 0.8145 - val_loss: 0.4778\n",
            "Epoch 2/15\n",
            "\u001b[1m313/313\u001b[0m \u001b[32m━━━━━━━━━━━━━━━━━━━━\u001b[0m\u001b[37m\u001b[0m \u001b[1m9s\u001b[0m 17ms/step - accuracy: 0.7849 - loss: 0.4889 - val_accuracy: 0.8185 - val_loss: 0.4333\n",
            "Epoch 3/15\n",
            "\u001b[1m313/313\u001b[0m \u001b[32m━━━━━━━━━━━━━━━━━━━━\u001b[0m\u001b[37m\u001b[0m \u001b[1m10s\u001b[0m 16ms/step - accuracy: 0.8048 - loss: 0.4459 - val_accuracy: 0.8365 - val_loss: 0.4011\n",
            "Epoch 4/15\n",
            "\u001b[1m313/313\u001b[0m \u001b[32m━━━━━━━━━━━━━━━━━━━━\u001b[0m\u001b[37m\u001b[0m \u001b[1m6s\u001b[0m 19ms/step - accuracy: 0.8231 - loss: 0.4201 - val_accuracy: 0.8190 - val_loss: 0.4147\n",
            "Epoch 5/15\n",
            "\u001b[1m313/313\u001b[0m \u001b[32m━━━━━━━━━━━━━━━━━━━━\u001b[0m\u001b[37m\u001b[0m \u001b[1m10s\u001b[0m 17ms/step - accuracy: 0.8148 - loss: 0.4255 - val_accuracy: 0.7885 - val_loss: 0.4655\n",
            "Epoch 6/15\n",
            "\u001b[1m313/313\u001b[0m \u001b[32m━━━━━━━━━━━━━━━━━━━━\u001b[0m\u001b[37m\u001b[0m \u001b[1m10s\u001b[0m 16ms/step - accuracy: 0.8364 - loss: 0.3847 - val_accuracy: 0.8255 - val_loss: 0.3986\n",
            "Epoch 7/15\n",
            "\u001b[1m313/313\u001b[0m \u001b[32m━━━━━━━━━━━━━━━━━━━━\u001b[0m\u001b[37m\u001b[0m \u001b[1m6s\u001b[0m 19ms/step - accuracy: 0.8325 - loss: 0.3945 - val_accuracy: 0.8580 - val_loss: 0.3424\n",
            "Epoch 8/15\n",
            "\u001b[1m313/313\u001b[0m \u001b[32m━━━━━━━━━━━━━━━━━━━━\u001b[0m\u001b[37m\u001b[0m \u001b[1m10s\u001b[0m 18ms/step - accuracy: 0.8428 - loss: 0.3651 - val_accuracy: 0.8615 - val_loss: 0.3268\n",
            "Epoch 9/15\n",
            "\u001b[1m313/313\u001b[0m \u001b[32m━━━━━━━━━━━━━━━━━━━━\u001b[0m\u001b[37m\u001b[0m \u001b[1m10s\u001b[0m 16ms/step - accuracy: 0.8634 - loss: 0.3287 - val_accuracy: 0.8730 - val_loss: 0.3126\n",
            "Epoch 10/15\n",
            "\u001b[1m313/313\u001b[0m \u001b[32m━━━━━━━━━━━━━━━━━━━━\u001b[0m\u001b[37m\u001b[0m \u001b[1m6s\u001b[0m 20ms/step - accuracy: 0.8655 - loss: 0.3197 - val_accuracy: 0.8735 - val_loss: 0.3121\n",
            "Epoch 11/15\n",
            "\u001b[1m313/313\u001b[0m \u001b[32m━━━━━━━━━━━━━━━━━━━━\u001b[0m\u001b[37m\u001b[0m \u001b[1m10s\u001b[0m 18ms/step - accuracy: 0.8771 - loss: 0.3040 - val_accuracy: 0.8495 - val_loss: 0.3514\n",
            "Epoch 12/15\n",
            "\u001b[1m313/313\u001b[0m \u001b[32m━━━━━━━━━━━━━━━━━━━━\u001b[0m\u001b[37m\u001b[0m \u001b[1m10s\u001b[0m 16ms/step - accuracy: 0.8617 - loss: 0.3305 - val_accuracy: 0.8600 - val_loss: 0.3409\n",
            "Epoch 13/15\n",
            "\u001b[1m313/313\u001b[0m \u001b[32m━━━━━━━━━━━━━━━━━━━━\u001b[0m\u001b[37m\u001b[0m \u001b[1m6s\u001b[0m 19ms/step - accuracy: 0.8870 - loss: 0.2905 - val_accuracy: 0.8655 - val_loss: 0.3292\n",
            "Epoch 14/15\n",
            "\u001b[1m313/313\u001b[0m \u001b[32m━━━━━━━━━━━━━━━━━━━━\u001b[0m\u001b[37m\u001b[0m \u001b[1m10s\u001b[0m 18ms/step - accuracy: 0.8841 - loss: 0.2906 - val_accuracy: 0.8645 - val_loss: 0.3288\n",
            "Epoch 15/15\n",
            "\u001b[1m313/313\u001b[0m \u001b[32m━━━━━━━━━━━━━━━━━━━━\u001b[0m\u001b[37m\u001b[0m \u001b[1m10s\u001b[0m 17ms/step - accuracy: 0.8886 - loss: 0.2815 - val_accuracy: 0.8750 - val_loss: 0.3159\n"
          ]
        }
      ]
    },
    {
      "cell_type": "code",
      "source": [
        "eval_loss, eval_accuracy = model.evaluate(x_test, test_vec_labels)\n",
        "print(\"Model accuracy: %.2f\" % eval_accuracy)"
      ],
      "metadata": {
        "id": "rgpeg_lbPPC-",
        "outputId": "e45dccc0-a47c-479a-91fd-995a4849a132",
        "colab": {
          "base_uri": "https://localhost:8080/"
        }
      },
      "execution_count": 187,
      "outputs": [
        {
          "output_type": "stream",
          "name": "stdout",
          "text": [
            "\u001b[1m63/63\u001b[0m \u001b[32m━━━━━━━━━━━━━━━━━━━━\u001b[0m\u001b[37m\u001b[0m \u001b[1m0s\u001b[0m 5ms/step - accuracy: 0.8749 - loss: 0.3092\n",
            "Model accuracy: 0.88\n"
          ]
        }
      ]
    },
    {
      "cell_type": "markdown",
      "source": [
        "##Training des Neuronalen Netzes\n",
        "\n",
        "1.   List item\n",
        "2.   List item\n",
        "\n"
      ],
      "metadata": {
        "id": "_RC60Qje0JG0"
      }
    },
    {
      "cell_type": "code",
      "source": [
        "\n",
        "model.compile(optimizer=\"adam\",\n",
        "              #loss='mean_squared_error',\n",
        "              loss='categorical_crossentropy',\n",
        "              metrics=['accuracy'])\n",
        "history = model.fit(x_train, train_vec_labels, validation_data=(x_test, test_vec_labels), epochs=15, batch_size=32, verbose=True)"
      ],
      "metadata": {
        "colab": {
          "base_uri": "https://localhost:8080/"
        },
        "id": "wHCp-xIS0MJl",
        "outputId": "90de516b-ae61-4e4d-e667-2f363813021d"
      },
      "execution_count": 188,
      "outputs": [
        {
          "output_type": "stream",
          "name": "stdout",
          "text": [
            "Epoch 1/15\n",
            "\u001b[1m313/313\u001b[0m \u001b[32m━━━━━━━━━━━━━━━━━━━━\u001b[0m\u001b[37m\u001b[0m \u001b[1m8s\u001b[0m 22ms/step - accuracy: 0.8113 - loss: 0.4469 - val_accuracy: 0.8180 - val_loss: 0.3955\n",
            "Epoch 2/15\n",
            "\u001b[1m313/313\u001b[0m \u001b[32m━━━━━━━━━━━━━━━━━━━━\u001b[0m\u001b[37m\u001b[0m \u001b[1m10s\u001b[0m 23ms/step - accuracy: 0.8251 - loss: 0.3965 - val_accuracy: 0.7545 - val_loss: 0.5344\n",
            "Epoch 3/15\n",
            "\u001b[1m313/313\u001b[0m \u001b[32m━━━━━━━━━━━━━━━━━━━━\u001b[0m\u001b[37m\u001b[0m \u001b[1m10s\u001b[0m 23ms/step - accuracy: 0.8217 - loss: 0.4004 - val_accuracy: 0.8360 - val_loss: 0.3803\n",
            "Epoch 4/15\n",
            "\u001b[1m313/313\u001b[0m \u001b[32m━━━━━━━━━━━━━━━━━━━━\u001b[0m\u001b[37m\u001b[0m \u001b[1m6s\u001b[0m 20ms/step - accuracy: 0.8232 - loss: 0.4034 - val_accuracy: 0.8465 - val_loss: 0.3535\n",
            "Epoch 5/15\n",
            "\u001b[1m313/313\u001b[0m \u001b[32m━━━━━━━━━━━━━━━━━━━━\u001b[0m\u001b[37m\u001b[0m \u001b[1m10s\u001b[0m 20ms/step - accuracy: 0.8402 - loss: 0.3764 - val_accuracy: 0.8520 - val_loss: 0.3505\n",
            "Epoch 6/15\n",
            "\u001b[1m313/313\u001b[0m \u001b[32m━━━━━━━━━━━━━━━━━━━━\u001b[0m\u001b[37m\u001b[0m \u001b[1m7s\u001b[0m 23ms/step - accuracy: 0.8388 - loss: 0.3746 - val_accuracy: 0.8535 - val_loss: 0.3546\n",
            "Epoch 7/15\n",
            "\u001b[1m313/313\u001b[0m \u001b[32m━━━━━━━━━━━━━━━━━━━━\u001b[0m\u001b[37m\u001b[0m \u001b[1m6s\u001b[0m 20ms/step - accuracy: 0.8549 - loss: 0.3528 - val_accuracy: 0.8265 - val_loss: 0.3874\n",
            "Epoch 8/15\n",
            "\u001b[1m313/313\u001b[0m \u001b[32m━━━━━━━━━━━━━━━━━━━━\u001b[0m\u001b[37m\u001b[0m \u001b[1m7s\u001b[0m 23ms/step - accuracy: 0.8373 - loss: 0.3701 - val_accuracy: 0.7970 - val_loss: 0.4541\n",
            "Epoch 9/15\n",
            "\u001b[1m313/313\u001b[0m \u001b[32m━━━━━━━━━━━━━━━━━━━━\u001b[0m\u001b[37m\u001b[0m \u001b[1m9s\u001b[0m 20ms/step - accuracy: 0.8572 - loss: 0.3453 - val_accuracy: 0.8530 - val_loss: 0.3692\n",
            "Epoch 10/15\n",
            "\u001b[1m313/313\u001b[0m \u001b[32m━━━━━━━━━━━━━━━━━━━━\u001b[0m\u001b[37m\u001b[0m \u001b[1m7s\u001b[0m 23ms/step - accuracy: 0.8532 - loss: 0.3548 - val_accuracy: 0.8380 - val_loss: 0.3773\n",
            "Epoch 11/15\n",
            "\u001b[1m313/313\u001b[0m \u001b[32m━━━━━━━━━━━━━━━━━━━━\u001b[0m\u001b[37m\u001b[0m \u001b[1m7s\u001b[0m 21ms/step - accuracy: 0.8314 - loss: 0.3848 - val_accuracy: 0.8585 - val_loss: 0.3379\n",
            "Epoch 12/15\n",
            "\u001b[1m313/313\u001b[0m \u001b[32m━━━━━━━━━━━━━━━━━━━━\u001b[0m\u001b[37m\u001b[0m \u001b[1m7s\u001b[0m 22ms/step - accuracy: 0.8444 - loss: 0.3578 - val_accuracy: 0.8370 - val_loss: 0.3646\n",
            "Epoch 13/15\n",
            "\u001b[1m313/313\u001b[0m \u001b[32m━━━━━━━━━━━━━━━━━━━━\u001b[0m\u001b[37m\u001b[0m \u001b[1m11s\u001b[0m 23ms/step - accuracy: 0.8715 - loss: 0.3205 - val_accuracy: 0.8440 - val_loss: 0.3584\n",
            "Epoch 14/15\n",
            "\u001b[1m313/313\u001b[0m \u001b[32m━━━━━━━━━━━━━━━━━━━━\u001b[0m\u001b[37m\u001b[0m \u001b[1m10s\u001b[0m 23ms/step - accuracy: 0.8409 - loss: 0.3731 - val_accuracy: 0.8605 - val_loss: 0.3419\n",
            "Epoch 15/15\n",
            "\u001b[1m313/313\u001b[0m \u001b[32m━━━━━━━━━━━━━━━━━━━━\u001b[0m\u001b[37m\u001b[0m \u001b[1m7s\u001b[0m 21ms/step - accuracy: 0.8580 - loss: 0.3463 - val_accuracy: 0.8405 - val_loss: 0.3920\n"
          ]
        }
      ]
    },
    {
      "cell_type": "code",
      "source": [],
      "metadata": {
        "id": "utRvqFY_Ru2H"
      },
      "execution_count": 188,
      "outputs": []
    },
    {
      "cell_type": "markdown",
      "source": [
        "##Evaluierung der Leistungsfähigkeit des Netzes\n",
        "\n",
        "Überprüfen das Modell zunächst anhand der MNIST Testdaten (10.000 Datensätze) die Genauigkeit unseres Netzes bei „ungesehenen“ Daten (Generalisierungsfähigkeit)\n",
        "\n"
      ],
      "metadata": {
        "id": "nMWXSXWtD5LI"
      }
    },
    {
      "cell_type": "code",
      "source": [
        "eval_loss, eval_accuracy = model.evaluate(x_test, test_vec_labels)\n",
        "print(\"Model accuracy: %.2f\" % eval_accuracy)\n"
      ],
      "metadata": {
        "colab": {
          "base_uri": "https://localhost:8080/"
        },
        "id": "WoEuEdEyDvyc",
        "outputId": "c927f446-4d37-4110-f368-47e7a10b4619"
      },
      "execution_count": 189,
      "outputs": [
        {
          "output_type": "stream",
          "name": "stdout",
          "text": [
            "\u001b[1m63/63\u001b[0m \u001b[32m━━━━━━━━━━━━━━━━━━━━\u001b[0m\u001b[37m\u001b[0m \u001b[1m1s\u001b[0m 9ms/step - accuracy: 0.8518 - loss: 0.3813\n",
            "Model accuracy: 0.84\n"
          ]
        }
      ]
    },
    {
      "cell_type": "markdown",
      "source": [],
      "metadata": {
        "id": "fNQWcbLGFl_0"
      }
    },
    {
      "cell_type": "markdown",
      "source": [
        "##Erstellen eines Plots der `history`-Daten in Matplotlib\n",
        "Plot des Fehlerverlaufs (Loss) während des Trainings"
      ],
      "metadata": {
        "id": "BqKJvXh22WHN"
      }
    },
    {
      "cell_type": "code",
      "source": [
        "plt.plot(history.history['loss'],'o--')\n",
        "plt.plot(history.history['val_loss'],'o--')\n",
        "plt.title('model loss')\n",
        "plt.ylabel('loss')\n",
        "plt.xlabel('epoch')\n",
        "plt.legend(['train', 'test'], loc='upper left')\n",
        "plt.show()"
      ],
      "metadata": {
        "colab": {
          "base_uri": "https://localhost:8080/",
          "height": 472
        },
        "id": "qUI0j_kM-DmR",
        "outputId": "5f81e115-b6c5-450a-ca78-df12dffdb166"
      },
      "execution_count": 190,
      "outputs": [
        {
          "output_type": "display_data",
          "data": {
            "text/plain": [
              "<Figure size 640x480 with 1 Axes>"
            ],
            "image/png": "[encoded data removed]"
          },
          "metadata": {}
        }
      ]
    },
    {
      "cell_type": "markdown",
      "source": [
        "Plot der Accuracy des Fehlerverlaufs während des Trainings"
      ],
      "metadata": {
        "id": "saPxqV3ENkn6"
      }
    },
    {
      "cell_type": "code",
      "source": [
        "plt.plot(history.history['accuracy'],'o--')\n",
        "plt.plot(history.history['val_accuracy'],'o--')\n",
        "plt.title('model accuracy')\n",
        "plt.ylabel('accuracy')\n",
        "plt.xlabel('epoch')\n",
        "plt.legend(['train', 'test'], loc='upper left')\n",
        "plt.show()"
      ],
      "metadata": {
        "colab": {
          "base_uri": "https://localhost:8080/",
          "height": 472
        },
        "id": "oxhXN0DsNlRy",
        "outputId": "0dc34abd-4488-42f2-b8dc-bcf3c01a3adc"
      },
      "execution_count": 191,
      "outputs": [
        {
          "output_type": "display_data",
          "data": {
            "text/plain": [
              "<Figure size 640x480 with 1 Axes>"
            ],
            "image/png": "[encoded data removed]"
          },
          "metadata": {}
        }
      ]
    },
    {
      "cell_type": "markdown",
      "source": [
        "Anwendung des NN-Klassifikators anhand konkreter Bilder aus der MNIST-Testmenge (`x_test`)"
      ],
      "metadata": {
        "id": "A6g5MmB4gT35"
      }
    },
    {
      "cell_type": "code",
      "source": [
        "i=1\n",
        "example = x_test[i]\n",
        "plt.imshow(example, cmap='gray')\n",
        "plt.show()\n",
        "prediction=model.predict(np.array([example]))\n",
        "predicted_class = np.argmax(prediction, axis=-1)\n",
        "print(\"predicted class: \" + str(predicted_class))\n",
        "print(\"true class: \"+ str(y_test[i]))\n"
      ],
      "metadata": {
        "colab": {
          "base_uri": "https://localhost:8080/",
          "height": 482
        },
        "id": "4b2LK-AOd_Xp",
        "outputId": "500e0557-286b-4a67-8d17-8f3c2bc226de"
      },
      "execution_count": 192,
      "outputs": [
        {
          "output_type": "display_data",
          "data": {
            "text/plain": [
              "<Figure size 640x480 with 1 Axes>"
            ],
            "image/png": "[encoded data removed]"
          },
          "metadata": {}
        },
        {
          "output_type": "stream",
          "name": "stdout",
          "text": [
            "\u001b[1m1/1\u001b[0m \u001b[32m━━━━━━━━━━━━━━━━━━━━\u001b[0m\u001b[37m\u001b[0m \u001b[1m0s\u001b[0m 76ms/step\n",
            "predicted class: [1]\n",
            "true class: 1\n"
          ]
        }
      ]
    },
    {
      "cell_type": "markdown",
      "source": [
        "## Evaluierung verrauschter Daten\n",
        "\n",
        "Die Testbilder werden mit Rauschen versehen.\n"
      ],
      "metadata": {
        "id": "bd93FqFMFCFw"
      }
    },
    {
      "cell_type": "code",
      "source": [
        "#Generierung einer Noise-Matrix mittels Zufallszahlen\n",
        "#die Rauschintensität wird mittel Rauschparameter beta gesteuert\n",
        "beta=2.0\n",
        "#Generierung der Noise-Matrix\n",
        "noise = beta*np.random.random((28,28))-beta/2\n",
        "\n",
        "#Hinzufügen von Rauschen zu den Bildern\n",
        "#Addition der Noise-Matrix auf normalisiertes Bild\n",
        "x_test_noisy = x_test + noise\n",
        "\n",
        "#x_train_noisy = x_train_norm + noise\n",
        "x_test_noisy = np.clip(x_test_noisy, 0., 1.) # Clip der Werte zwischen 0 und 1\n",
        "\n",
        "#Auswertung der Accuracy bei Evaluation der gestörten Daten\n",
        "eval_loss, eval_accuracy = model.evaluate(x_test_noisy, test_vec_labels)\n",
        "print(\"Model accuracy: %.2f\" % eval_accuracy)\n"
      ],
      "metadata": {
        "colab": {
          "base_uri": "https://localhost:8080/",
          "height": 211
        },
        "id": "4WTZm6fhE8f8",
        "outputId": "65285070-9013-4eab-f831-3e1776c06d03"
      },
      "execution_count": 193,
      "outputs": [
        {
          "output_type": "error",
          "ename": "ValueError",
          "evalue": "operands could not be broadcast together with shapes (2000,32,32,3) (28,28) ",
          "traceback": [
            "\u001b[0;31m---------------------------------------------------------------------------\u001b[0m",
            "\u001b[0;31mValueError\u001b[0m                                Traceback (most recent call last)",
            "\u001b[0;32m<ipython-input-193-0531ab77faab>\u001b[0m in \u001b[0;36m<cell line: 0>\u001b[0;34m()\u001b[0m\n\u001b[1;32m      7\u001b[0m \u001b[0;31m#Hinzufügen von Rauschen zu den Bildern\u001b[0m\u001b[0;34m\u001b[0m\u001b[0;34m\u001b[0m\u001b[0m\n\u001b[1;32m      8\u001b[0m \u001b[0;31m#Addition der Noise-Matrix auf normalisiertes Bild\u001b[0m\u001b[0;34m\u001b[0m\u001b[0;34m\u001b[0m\u001b[0m\n\u001b[0;32m----> 9\u001b[0;31m \u001b[0mx_test_noisy\u001b[0m \u001b[0;34m=\u001b[0m \u001b[0mx_test\u001b[0m \u001b[0;34m+\u001b[0m \u001b[0mnoise\u001b[0m\u001b[0;34m\u001b[0m\u001b[0;34m\u001b[0m\u001b[0m\n\u001b[0m\u001b[1;32m     10\u001b[0m \u001b[0;34m\u001b[0m\u001b[0m\n\u001b[1;32m     11\u001b[0m \u001b[0;31m#x_train_noisy = x_train_norm + noise\u001b[0m\u001b[0;34m\u001b[0m\u001b[0;34m\u001b[0m\u001b[0m\n",
            "\u001b[0;31mValueError\u001b[0m: operands could not be broadcast together with shapes (2000,32,32,3) (28,28) "
          ]
        }
      ]
    },
    {
      "cell_type": "markdown",
      "source": [
        "##Anzeige der verrauschten Daten"
      ],
      "metadata": {
        "id": "z9tEIKNuM9St"
      }
    },
    {
      "cell_type": "code",
      "source": [
        "# sample 25 mnist digits from train dataset\n",
        "indexes = np.random.randint(0, x_test_noisy.shape[0], size=25)\n",
        "images = x_test_noisy[indexes]\n",
        "\n",
        "# plot the 25 mnist digits\n",
        "plt.figure(figsize=(5,5))\n",
        "for i in range(len(indexes)):\n",
        "  plt.subplot(5, 5, i + 1)\n",
        "  image = images[i]\n",
        "  plt.imshow(image, cmap='gray')\n",
        "  plt.axis('off')\n",
        "\n",
        "plt.show()"
      ],
      "metadata": {
        "id": "J0ENqmuqMs7_"
      },
      "execution_count": null,
      "outputs": []
    },
    {
      "cell_type": "markdown",
      "source": [
        "## Evaluierung bei Verschiebungen (Translation) von Bildinhalten\n",
        "\n",
        "Shift der Bildpixel mittels `roll()`-Funktion in y-Achse (`axis=1`) bzw. x-Achse (`axis=2`):"
      ],
      "metadata": {
        "id": "RuGeo_WdQgkD"
      }
    },
    {
      "cell_type": "code",
      "source": [
        "# Verschieben der Bilder um 3 Pixel nach rechts und nach unten\n",
        "x_test_shifted = np.roll(x_test, 1, axis=1)\n",
        "x_test_shifted = np.roll(x_test_shifted, 1, axis=2)\n",
        "\n",
        "#Auswertung der Accuracy bei Evaluation der verschobenen Daten\n",
        "eval_loss, eval_accuracy = model.evaluate(x_test_shifted, test_vec_labels)\n",
        "print(\"Model accuracy: %.2f\" % eval_accuracy)\n"
      ],
      "metadata": {
        "id": "kOG7h9iwQoTe"
      },
      "execution_count": null,
      "outputs": []
    },
    {
      "cell_type": "markdown",
      "source": [
        "##Anwendung des NN-Klassifikators anhand eigener Bilder\n"
      ],
      "metadata": {
        "id": "sBKfdfTYlhKE"
      }
    },
    {
      "cell_type": "markdown",
      "source": [
        "eigenes Bild laden und anzeigen"
      ],
      "metadata": {
        "id": "ZLPtAqVFl0wn"
      }
    },
    {
      "cell_type": "code",
      "source": [
        "# Bild laden und anzeigen\n",
        "img_path = 'TestZiffer3.png'\n",
        "img = image.load_img(img_path, color_mode='grayscale')\n",
        "img = img.resize((28,28))\n",
        "plt.imshow(img, cmap='gray')\n",
        "plt.show()"
      ],
      "metadata": {
        "id": "_uP7U3L0xJks"
      },
      "execution_count": null,
      "outputs": []
    },
    {
      "cell_type": "markdown",
      "source": [
        "##Bildvorverarbeitung und Klassifikation\n"
      ],
      "metadata": {
        "id": "DUqCGoef8Ezv"
      }
    },
    {
      "cell_type": "code",
      "source": [
        "#Umwandlung des Bildes als Numpy-Array\n",
        "input_arr = np.array(img)\n",
        "\n",
        "#Transformation der Pixelwerte\n",
        "input_arr = input_arr / 255  #Normalisierung auf Intervall [0,1]\n",
        "\n",
        "prediction=model.predict(np.array([input_arr]))\n",
        "predicted_class = np.argmax(prediction, axis=-1)\n",
        "print(\"predicted class: \" + str(predicted_class))"
      ],
      "metadata": {
        "id": "EMJ9HAhZleif"
      },
      "execution_count": null,
      "outputs": []
    }
  ]
}