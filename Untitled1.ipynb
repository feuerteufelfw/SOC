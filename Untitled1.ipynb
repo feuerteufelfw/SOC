{
 "cells": [
  {
   "cell_type": "code",
   "execution_count": null,
   "id": "b8ab909b-1f8e-4504-ba65-31f69c6b9875",
   "metadata": {},
   "outputs": [],
   "source": [
    "\n"
   ]
  },
  {
   "cell_type": "code",
   "execution_count": 1,
   "id": "9a2fa237-304d-47e3-bdc3-3d5658f057cc",
   "metadata": {},
   "outputs": [
    {
     "name": "stderr",
     "output_type": "stream",
     "text": [
      "2025-06-10 23:51:34.988088: I tensorflow/core/platform/cpu_feature_guard.cc:210] This TensorFlow binary is optimized to use available CPU instructions in performance-critical operations.\n",
      "To enable the following instructions: AVX2 FMA, in other operations, rebuild TensorFlow with the appropriate compiler flags.\n"
     ]
    }
   ],
   "source": [
    "import tensorflow as tf\n",
    "from tensorflow import keras\n",
    "from keras.preprocessing import image\n",
    "from tensorflow.keras.models import Sequential\n",
    "from tensorflow.keras.layers import Flatten, Dense\n",
    "from tensorflow.keras.models import Model\n",
    "import matplotlib.pyplot as plt\n",
    "from PIL import Image\n",
    "import numpy as np\n",
    "import random"
   ]
  },
  {
   "cell_type": "raw",
   "id": "0af0c03d-d30c-4e13-83d1-1bfb2afcf479",
   "metadata": {},
   "source": [
    "Daten laden"
   ]
  },
  {
   "cell_type": "code",
   "execution_count": 2,
   "id": "2436b60a-e3ba-4ee5-8dd9-77cd800a6ca1",
   "metadata": {},
   "outputs": [],
   "source": [
    "\n",
    "\n",
    "#verwende MNIST-Modul aus keras\n",
    "mnist = tf.keras.datasets.cifar10\n",
    "\n",
    "# lade Datensatz bestehend aus (Trainingspaare), (Testpaare)\n",
    "(x_train, y_train), (x_test, y_test) = mnist.load_data()\n"
   ]
  },
  {
   "cell_type": "raw",
   "id": "b9d2f311-88fa-42b8-acc7-2738d928ff73",
   "metadata": {},
   "source": [
    "Normalisieren"
   ]
  },
  {
   "cell_type": "code",
   "execution_count": 3,
   "id": "34cc918f-d4b7-4fe8-aa76-98371f168126",
   "metadata": {},
   "outputs": [],
   "source": [
    "\n",
    "\n",
    "# Normalisiere die Bilder auf das Intervall  [0, 1]\n",
    "x_train  = x_train / 255.0\n",
    "x_test = x_test / 255.0"
   ]
  },
  {
   "cell_type": "code",
   "execution_count": 4,
   "id": "ac8c4819-f71e-4b8b-8bdb-574a2d0b41ed",
   "metadata": {},
   "outputs": [
    {
     "name": "stdout",
     "output_type": "stream",
     "text": [
      "50000\n"
     ]
    }
   ],
   "source": [
    "print(str(len(x_train)))"
   ]
  },
  {
   "cell_type": "markdown",
   "id": "4e780445-fb53-4397-8c70-6b9d14e96265",
   "metadata": {},
   "source": [
    "Anzeigen eines belibigen Bildes"
   ]
  },
  {
   "cell_type": "code",
   "execution_count": 5,
   "id": "6977517c-739b-4413-866c-7c53b90170cd",
   "metadata": {},
   "outputs": [
    {
     "data": {
      "image/png": "[encoded data removed]",
      "text/plain": [
       "<Figure size 640x480 with 1 Axes>"
      ]
     },
     "metadata": {},
     "output_type": "display_data"
    },
    {
     "name": "stdout",
     "output_type": "stream",
     "text": [
      "Image Lable: [3]\n"
     ]
    }
   ],
   "source": [
    "image_pos = random.randint(1,len(x_train))                \n",
    "image = x_train[image_pos]\n",
    "plt.imshow(image)\n",
    "plt.show()\n",
    "\n",
    "print(\"Image Lable:\", str(y_train[image_pos]))"
   ]
  },
  {
   "cell_type": "raw",
   "id": "d392c2b2-897d-43c9-aee9-1bb61a58540a",
   "metadata": {},
   "source": [
    "Filtern nach Label"
   ]
  },
  {
   "cell_type": "code",
   "execution_count": 6,
   "id": "33bb2756-a5ba-4bec-8bf3-390ac9cd98e1",
   "metadata": {},
   "outputs": [],
   "source": [
    "\n",
    "y_train, y_test = np.squeeze(y_train), np.squeeze(y_test)\n",
    "class_car, class_plane = 1,0\n",
    "train_mask = (y_train == class_car) | (y_train == class_plane)\n",
    "test_mask = (y_test == class_car) | (y_test == class_plane)\n",
    "y_train = y_train[train_mask]\n",
    "y_test = y_test[test_mask]\n",
    "x_train = x_train[train_mask]\n",
    "x_test = x_test[test_mask]"
   ]
  },
  {
   "cell_type": "code",
   "execution_count": 7,
   "id": "2f59ff6e-8cef-4f18-81a2-7ee084ee577f",
   "metadata": {},
   "outputs": [],
   "source": [
    "\n",
    "\n",
    "total_classes = 2 \n",
    "train_vec_labels = keras.utils.to_categorical(y_train, total_classes)\n",
    "test_vec_labels = keras.utils.to_categorical(y_test, total_classes)\n"
   ]
  },
  {
   "cell_type": "raw",
   "id": "44514262-6a69-44ac-ae26-072d262cadc5",
   "metadata": {},
   "source": [
    "Modell mit vielen Knotenpunkten"
   ]
  },
  {
   "cell_type": "code",
   "execution_count": 8,
   "id": "813dfa0d-222c-4098-8fe2-ff30089fcc2c",
   "metadata": {},
   "outputs": [
    {
     "name": "stderr",
     "output_type": "stream",
     "text": [
      "/home/faxe/PyCharmMiscProject/.venv/lib/python3.12/site-packages/keras/src/layers/reshaping/flatten.py:37: UserWarning: Do not pass an `input_shape`/`input_dim` argument to a layer. When using Sequential models, prefer using an `Input(shape)` object as the first layer in the model instead.\n",
      "  super().__init__(**kwargs)\n"
     ]
    }
   ],
   "source": [
    "model = Sequential([\n",
    " Flatten(input_shape=(32,32, 3)),\n",
    " Dense(500, activation='tanh'),\n",
    " Dense(250, activation='tanh'),\n",
    " Dense(2, activation='softmax')\n",
    "])"
   ]
  },
  {
   "cell_type": "code",
   "id": "d63154bf-9711-494f-a3bd-6253702ed039",
   "metadata": {
    "ExecuteTime": {
     "end_time": "2025-06-10T22:53:38.467816Z",
     "start_time": "2025-06-10T22:53:38.164038Z"
    }
   },
   "source": [
    "model.summary()"
   ],
   "outputs": [
    {
     "ename": "NameError",
     "evalue": "name 'model' is not defined",
     "output_type": "error",
     "traceback": [
      "\u001B[31m---------------------------------------------------------------------------\u001B[39m",
      "\u001B[31mNameError\u001B[39m                                 Traceback (most recent call last)",
      "\u001B[36mCell\u001B[39m\u001B[36m \u001B[39m\u001B[32mIn[1]\u001B[39m\u001B[32m, line 1\u001B[39m\n\u001B[32m----> \u001B[39m\u001B[32m1\u001B[39m \u001B[43mmodel\u001B[49m.summary()\n",
      "\u001B[31mNameError\u001B[39m: name 'model' is not defined"
     ]
    }
   ],
   "execution_count": 1
  },
  {
   "cell_type": "code",
   "execution_count": 12,
   "id": "51938bcb-b9fe-4d1b-9dbd-81e8e798b862",
   "metadata": {},
   "outputs": [],
   "source": [
    "opt1 = keras.optimizers.SGD(\n",
    "      learning_rate=0.01,\n",
    "      weight_decay=1e-6,\n",
    "      momentum=0.9)\n",
    "opt= opt1"
   ]
  },
  {
   "cell_type": "code",
   "execution_count": 14,
   "id": "d2cbdf38-5d4e-4e76-97e0-a5dcbfc70a68",
   "metadata": {},
   "outputs": [
    {
     "name": "stdout",
     "output_type": "stream",
     "text": [
      "Epoch 1/15\n"
     ]
    },
    {
     "name": "stderr",
     "output_type": "stream",
     "text": [
      "2025-06-10 23:55:11.438489: W external/local_xla/xla/tsl/framework/cpu_allocator_impl.cc:83] Allocation of 122880000 exceeds 10% of free system memory.\n"
     ]
    },
    {
     "name": "stdout",
     "output_type": "stream",
     "text": [
      "\u001B[1m 245/1250\u001B[0m \u001B[32m━━━\u001B[0m\u001B[37m━━━━━━━━━━━━━━━━━\u001B[0m \u001B[1m7s\u001B[0m 7ms/step - accuracy: 0.6634 - loss: 0.7330"
     ]
    },
    {
     "ename": "KeyboardInterrupt",
     "evalue": "",
     "output_type": "error",
     "traceback": [
      "\u001B[31m---------------------------------------------------------------------------\u001B[39m",
      "\u001B[31mKeyboardInterrupt\u001B[39m                         Traceback (most recent call last)",
      "\u001B[36mCell\u001B[39m\u001B[36m \u001B[39m\u001B[32mIn[14]\u001B[39m\u001B[32m, line 6\u001B[39m\n\u001B[32m      1\u001B[39m model.compile(optimizer=opt,\n\u001B[32m      2\u001B[39m               \u001B[38;5;66;03m#loss='mean_squared_error',\u001B[39;00m\n\u001B[32m      3\u001B[39m               loss=\u001B[33m'\u001B[39m\u001B[33mcategorical_crossentropy\u001B[39m\u001B[33m'\u001B[39m,\n\u001B[32m      4\u001B[39m               metrics=[\u001B[33m'\u001B[39m\u001B[33maccuracy\u001B[39m\u001B[33m'\u001B[39m])\n\u001B[32m----> \u001B[39m\u001B[32m6\u001B[39m history = \u001B[43mmodel\u001B[49m\u001B[43m.\u001B[49m\u001B[43mfit\u001B[49m\u001B[43m(\u001B[49m\u001B[43mx_train\u001B[49m\u001B[43m,\u001B[49m\u001B[43m \u001B[49m\u001B[43mtrain_vec_labels\u001B[49m\u001B[43m,\u001B[49m\u001B[43m \u001B[49m\u001B[43mvalidation_data\u001B[49m\u001B[43m=\u001B[49m\u001B[43m(\u001B[49m\u001B[43mx_test\u001B[49m\u001B[43m,\u001B[49m\u001B[43m \u001B[49m\u001B[43mtest_vec_labels\u001B[49m\u001B[43m)\u001B[49m\u001B[43m,\u001B[49m\u001B[43m \u001B[49m\u001B[43mepochs\u001B[49m\u001B[43m=\u001B[49m\u001B[32;43m15\u001B[39;49m\u001B[43m,\u001B[49m\u001B[43m \u001B[49m\u001B[43mbatch_size\u001B[49m\u001B[43m=\u001B[49m\u001B[32;43m8\u001B[39;49m\u001B[43m,\u001B[49m\u001B[43m \u001B[49m\u001B[43mverbose\u001B[49m\u001B[43m=\u001B[49m\u001B[38;5;28;43;01mTrue\u001B[39;49;00m\u001B[43m)\u001B[49m\n",
      "\u001B[36mFile \u001B[39m\u001B[32m~/PyCharmMiscProject/.venv/lib/python3.12/site-packages/keras/src/utils/traceback_utils.py:117\u001B[39m, in \u001B[36mfilter_traceback.<locals>.error_handler\u001B[39m\u001B[34m(*args, **kwargs)\u001B[39m\n\u001B[32m    115\u001B[39m filtered_tb = \u001B[38;5;28;01mNone\u001B[39;00m\n\u001B[32m    116\u001B[39m \u001B[38;5;28;01mtry\u001B[39;00m:\n\u001B[32m--> \u001B[39m\u001B[32m117\u001B[39m     \u001B[38;5;28;01mreturn\u001B[39;00m \u001B[43mfn\u001B[49m\u001B[43m(\u001B[49m\u001B[43m*\u001B[49m\u001B[43margs\u001B[49m\u001B[43m,\u001B[49m\u001B[43m \u001B[49m\u001B[43m*\u001B[49m\u001B[43m*\u001B[49m\u001B[43mkwargs\u001B[49m\u001B[43m)\u001B[49m\n\u001B[32m    118\u001B[39m \u001B[38;5;28;01mexcept\u001B[39;00m \u001B[38;5;167;01mException\u001B[39;00m \u001B[38;5;28;01mas\u001B[39;00m e:\n\u001B[32m    119\u001B[39m     filtered_tb = _process_traceback_frames(e.__traceback__)\n",
      "\u001B[36mFile \u001B[39m\u001B[32m~/PyCharmMiscProject/.venv/lib/python3.12/site-packages/keras/src/backend/tensorflow/trainer.py:377\u001B[39m, in \u001B[36mTensorFlowTrainer.fit\u001B[39m\u001B[34m(self, x, y, batch_size, epochs, verbose, callbacks, validation_split, validation_data, shuffle, class_weight, sample_weight, initial_epoch, steps_per_epoch, validation_steps, validation_batch_size, validation_freq)\u001B[39m\n\u001B[32m    375\u001B[39m \u001B[38;5;28;01mfor\u001B[39;00m step, iterator \u001B[38;5;129;01min\u001B[39;00m epoch_iterator:\n\u001B[32m    376\u001B[39m     callbacks.on_train_batch_begin(step)\n\u001B[32m--> \u001B[39m\u001B[32m377\u001B[39m     logs = \u001B[38;5;28;43mself\u001B[39;49m\u001B[43m.\u001B[49m\u001B[43mtrain_function\u001B[49m\u001B[43m(\u001B[49m\u001B[43miterator\u001B[49m\u001B[43m)\u001B[49m\n\u001B[32m    378\u001B[39m     callbacks.on_train_batch_end(step, logs)\n\u001B[32m    379\u001B[39m     \u001B[38;5;28;01mif\u001B[39;00m \u001B[38;5;28mself\u001B[39m.stop_training:\n",
      "\u001B[36mFile \u001B[39m\u001B[32m~/PyCharmMiscProject/.venv/lib/python3.12/site-packages/keras/src/backend/tensorflow/trainer.py:220\u001B[39m, in \u001B[36mTensorFlowTrainer._make_function.<locals>.function\u001B[39m\u001B[34m(iterator)\u001B[39m\n\u001B[32m    216\u001B[39m \u001B[38;5;28;01mdef\u001B[39;00m\u001B[38;5;250m \u001B[39m\u001B[34mfunction\u001B[39m(iterator):\n\u001B[32m    217\u001B[39m     \u001B[38;5;28;01mif\u001B[39;00m \u001B[38;5;28misinstance\u001B[39m(\n\u001B[32m    218\u001B[39m         iterator, (tf.data.Iterator, tf.distribute.DistributedIterator)\n\u001B[32m    219\u001B[39m     ):\n\u001B[32m--> \u001B[39m\u001B[32m220\u001B[39m         opt_outputs = \u001B[43mmulti_step_on_iterator\u001B[49m\u001B[43m(\u001B[49m\u001B[43miterator\u001B[49m\u001B[43m)\u001B[49m\n\u001B[32m    221\u001B[39m         \u001B[38;5;28;01mif\u001B[39;00m \u001B[38;5;129;01mnot\u001B[39;00m opt_outputs.has_value():\n\u001B[32m    222\u001B[39m             \u001B[38;5;28;01mraise\u001B[39;00m \u001B[38;5;167;01mStopIteration\u001B[39;00m\n",
      "\u001B[36mFile \u001B[39m\u001B[32m~/PyCharmMiscProject/.venv/lib/python3.12/site-packages/tensorflow/python/util/traceback_utils.py:150\u001B[39m, in \u001B[36mfilter_traceback.<locals>.error_handler\u001B[39m\u001B[34m(*args, **kwargs)\u001B[39m\n\u001B[32m    148\u001B[39m filtered_tb = \u001B[38;5;28;01mNone\u001B[39;00m\n\u001B[32m    149\u001B[39m \u001B[38;5;28;01mtry\u001B[39;00m:\n\u001B[32m--> \u001B[39m\u001B[32m150\u001B[39m   \u001B[38;5;28;01mreturn\u001B[39;00m \u001B[43mfn\u001B[49m\u001B[43m(\u001B[49m\u001B[43m*\u001B[49m\u001B[43margs\u001B[49m\u001B[43m,\u001B[49m\u001B[43m \u001B[49m\u001B[43m*\u001B[49m\u001B[43m*\u001B[49m\u001B[43mkwargs\u001B[49m\u001B[43m)\u001B[49m\n\u001B[32m    151\u001B[39m \u001B[38;5;28;01mexcept\u001B[39;00m \u001B[38;5;167;01mException\u001B[39;00m \u001B[38;5;28;01mas\u001B[39;00m e:\n\u001B[32m    152\u001B[39m   filtered_tb = _process_traceback_frames(e.__traceback__)\n",
      "\u001B[36mFile \u001B[39m\u001B[32m~/PyCharmMiscProject/.venv/lib/python3.12/site-packages/tensorflow/python/eager/polymorphic_function/polymorphic_function.py:833\u001B[39m, in \u001B[36mFunction.__call__\u001B[39m\u001B[34m(self, *args, **kwds)\u001B[39m\n\u001B[32m    830\u001B[39m compiler = \u001B[33m\"\u001B[39m\u001B[33mxla\u001B[39m\u001B[33m\"\u001B[39m \u001B[38;5;28;01mif\u001B[39;00m \u001B[38;5;28mself\u001B[39m._jit_compile \u001B[38;5;28;01melse\u001B[39;00m \u001B[33m\"\u001B[39m\u001B[33mnonXla\u001B[39m\u001B[33m\"\u001B[39m\n\u001B[32m    832\u001B[39m \u001B[38;5;28;01mwith\u001B[39;00m OptionalXlaContext(\u001B[38;5;28mself\u001B[39m._jit_compile):\n\u001B[32m--> \u001B[39m\u001B[32m833\u001B[39m   result = \u001B[38;5;28;43mself\u001B[39;49m\u001B[43m.\u001B[49m\u001B[43m_call\u001B[49m\u001B[43m(\u001B[49m\u001B[43m*\u001B[49m\u001B[43margs\u001B[49m\u001B[43m,\u001B[49m\u001B[43m \u001B[49m\u001B[43m*\u001B[49m\u001B[43m*\u001B[49m\u001B[43mkwds\u001B[49m\u001B[43m)\u001B[49m\n\u001B[32m    835\u001B[39m new_tracing_count = \u001B[38;5;28mself\u001B[39m.experimental_get_tracing_count()\n\u001B[32m    836\u001B[39m without_tracing = (tracing_count == new_tracing_count)\n",
      "\u001B[36mFile \u001B[39m\u001B[32m~/PyCharmMiscProject/.venv/lib/python3.12/site-packages/tensorflow/python/eager/polymorphic_function/polymorphic_function.py:878\u001B[39m, in \u001B[36mFunction._call\u001B[39m\u001B[34m(self, *args, **kwds)\u001B[39m\n\u001B[32m    875\u001B[39m \u001B[38;5;28mself\u001B[39m._lock.release()\n\u001B[32m    876\u001B[39m \u001B[38;5;66;03m# In this case we have not created variables on the first call. So we can\u001B[39;00m\n\u001B[32m    877\u001B[39m \u001B[38;5;66;03m# run the first trace but we should fail if variables are created.\u001B[39;00m\n\u001B[32m--> \u001B[39m\u001B[32m878\u001B[39m results = \u001B[43mtracing_compilation\u001B[49m\u001B[43m.\u001B[49m\u001B[43mcall_function\u001B[49m\u001B[43m(\u001B[49m\n\u001B[32m    879\u001B[39m \u001B[43m    \u001B[49m\u001B[43margs\u001B[49m\u001B[43m,\u001B[49m\u001B[43m \u001B[49m\u001B[43mkwds\u001B[49m\u001B[43m,\u001B[49m\u001B[43m \u001B[49m\u001B[38;5;28;43mself\u001B[39;49m\u001B[43m.\u001B[49m\u001B[43m_variable_creation_config\u001B[49m\n\u001B[32m    880\u001B[39m \u001B[43m\u001B[49m\u001B[43m)\u001B[49m\n\u001B[32m    881\u001B[39m \u001B[38;5;28;01mif\u001B[39;00m \u001B[38;5;28mself\u001B[39m._created_variables:\n\u001B[32m    882\u001B[39m   \u001B[38;5;28;01mraise\u001B[39;00m \u001B[38;5;167;01mValueError\u001B[39;00m(\u001B[33m\"\u001B[39m\u001B[33mCreating variables on a non-first call to a function\u001B[39m\u001B[33m\"\u001B[39m\n\u001B[32m    883\u001B[39m                    \u001B[33m\"\u001B[39m\u001B[33m decorated with tf.function.\u001B[39m\u001B[33m\"\u001B[39m)\n",
      "\u001B[36mFile \u001B[39m\u001B[32m~/PyCharmMiscProject/.venv/lib/python3.12/site-packages/tensorflow/python/eager/polymorphic_function/tracing_compilation.py:139\u001B[39m, in \u001B[36mcall_function\u001B[39m\u001B[34m(args, kwargs, tracing_options)\u001B[39m\n\u001B[32m    137\u001B[39m bound_args = function.function_type.bind(*args, **kwargs)\n\u001B[32m    138\u001B[39m flat_inputs = function.function_type.unpack_inputs(bound_args)\n\u001B[32m--> \u001B[39m\u001B[32m139\u001B[39m \u001B[38;5;28;01mreturn\u001B[39;00m \u001B[43mfunction\u001B[49m\u001B[43m.\u001B[49m\u001B[43m_call_flat\u001B[49m\u001B[43m(\u001B[49m\u001B[43m  \u001B[49m\u001B[38;5;66;43;03m# pylint: disable=protected-access\u001B[39;49;00m\n\u001B[32m    140\u001B[39m \u001B[43m    \u001B[49m\u001B[43mflat_inputs\u001B[49m\u001B[43m,\u001B[49m\u001B[43m \u001B[49m\u001B[43mcaptured_inputs\u001B[49m\u001B[43m=\u001B[49m\u001B[43mfunction\u001B[49m\u001B[43m.\u001B[49m\u001B[43mcaptured_inputs\u001B[49m\n\u001B[32m    141\u001B[39m \u001B[43m\u001B[49m\u001B[43m)\u001B[49m\n",
      "\u001B[36mFile \u001B[39m\u001B[32m~/PyCharmMiscProject/.venv/lib/python3.12/site-packages/tensorflow/python/eager/polymorphic_function/concrete_function.py:1322\u001B[39m, in \u001B[36mConcreteFunction._call_flat\u001B[39m\u001B[34m(self, tensor_inputs, captured_inputs)\u001B[39m\n\u001B[32m   1318\u001B[39m possible_gradient_type = gradients_util.PossibleTapeGradientTypes(args)\n\u001B[32m   1319\u001B[39m \u001B[38;5;28;01mif\u001B[39;00m (possible_gradient_type == gradients_util.POSSIBLE_GRADIENT_TYPES_NONE\n\u001B[32m   1320\u001B[39m     \u001B[38;5;129;01mand\u001B[39;00m executing_eagerly):\n\u001B[32m   1321\u001B[39m   \u001B[38;5;66;03m# No tape is watching; skip to running the function.\u001B[39;00m\n\u001B[32m-> \u001B[39m\u001B[32m1322\u001B[39m   \u001B[38;5;28;01mreturn\u001B[39;00m \u001B[38;5;28;43mself\u001B[39;49m\u001B[43m.\u001B[49m\u001B[43m_inference_function\u001B[49m\u001B[43m.\u001B[49m\u001B[43mcall_preflattened\u001B[49m\u001B[43m(\u001B[49m\u001B[43margs\u001B[49m\u001B[43m)\u001B[49m\n\u001B[32m   1323\u001B[39m forward_backward = \u001B[38;5;28mself\u001B[39m._select_forward_and_backward_functions(\n\u001B[32m   1324\u001B[39m     args,\n\u001B[32m   1325\u001B[39m     possible_gradient_type,\n\u001B[32m   1326\u001B[39m     executing_eagerly)\n\u001B[32m   1327\u001B[39m forward_function, args_with_tangents = forward_backward.forward()\n",
      "\u001B[36mFile \u001B[39m\u001B[32m~/PyCharmMiscProject/.venv/lib/python3.12/site-packages/tensorflow/python/eager/polymorphic_function/atomic_function.py:216\u001B[39m, in \u001B[36mAtomicFunction.call_preflattened\u001B[39m\u001B[34m(self, args)\u001B[39m\n\u001B[32m    214\u001B[39m \u001B[38;5;28;01mdef\u001B[39;00m\u001B[38;5;250m \u001B[39m\u001B[34mcall_preflattened\u001B[39m(\u001B[38;5;28mself\u001B[39m, args: Sequence[core.Tensor]) -> Any:\n\u001B[32m    215\u001B[39m \u001B[38;5;250m  \u001B[39m\u001B[33;03m\"\"\"Calls with flattened tensor inputs and returns the structured output.\"\"\"\u001B[39;00m\n\u001B[32m--> \u001B[39m\u001B[32m216\u001B[39m   flat_outputs = \u001B[38;5;28;43mself\u001B[39;49m\u001B[43m.\u001B[49m\u001B[43mcall_flat\u001B[49m\u001B[43m(\u001B[49m\u001B[43m*\u001B[49m\u001B[43margs\u001B[49m\u001B[43m)\u001B[49m\n\u001B[32m    217\u001B[39m   \u001B[38;5;28;01mreturn\u001B[39;00m \u001B[38;5;28mself\u001B[39m.function_type.pack_output(flat_outputs)\n",
      "\u001B[36mFile \u001B[39m\u001B[32m~/PyCharmMiscProject/.venv/lib/python3.12/site-packages/tensorflow/python/eager/polymorphic_function/atomic_function.py:251\u001B[39m, in \u001B[36mAtomicFunction.call_flat\u001B[39m\u001B[34m(self, *args)\u001B[39m\n\u001B[32m    249\u001B[39m \u001B[38;5;28;01mwith\u001B[39;00m record.stop_recording():\n\u001B[32m    250\u001B[39m   \u001B[38;5;28;01mif\u001B[39;00m \u001B[38;5;28mself\u001B[39m._bound_context.executing_eagerly():\n\u001B[32m--> \u001B[39m\u001B[32m251\u001B[39m     outputs = \u001B[38;5;28;43mself\u001B[39;49m\u001B[43m.\u001B[49m\u001B[43m_bound_context\u001B[49m\u001B[43m.\u001B[49m\u001B[43mcall_function\u001B[49m\u001B[43m(\u001B[49m\n\u001B[32m    252\u001B[39m \u001B[43m        \u001B[49m\u001B[38;5;28;43mself\u001B[39;49m\u001B[43m.\u001B[49m\u001B[43mname\u001B[49m\u001B[43m,\u001B[49m\n\u001B[32m    253\u001B[39m \u001B[43m        \u001B[49m\u001B[38;5;28;43mlist\u001B[39;49m\u001B[43m(\u001B[49m\u001B[43margs\u001B[49m\u001B[43m)\u001B[49m\u001B[43m,\u001B[49m\n\u001B[32m    254\u001B[39m \u001B[43m        \u001B[49m\u001B[38;5;28;43mlen\u001B[39;49m\u001B[43m(\u001B[49m\u001B[38;5;28;43mself\u001B[39;49m\u001B[43m.\u001B[49m\u001B[43mfunction_type\u001B[49m\u001B[43m.\u001B[49m\u001B[43mflat_outputs\u001B[49m\u001B[43m)\u001B[49m\u001B[43m,\u001B[49m\n\u001B[32m    255\u001B[39m \u001B[43m    \u001B[49m\u001B[43m)\u001B[49m\n\u001B[32m    256\u001B[39m   \u001B[38;5;28;01melse\u001B[39;00m:\n\u001B[32m    257\u001B[39m     outputs = make_call_op_in_graph(\n\u001B[32m    258\u001B[39m         \u001B[38;5;28mself\u001B[39m,\n\u001B[32m    259\u001B[39m         \u001B[38;5;28mlist\u001B[39m(args),\n\u001B[32m    260\u001B[39m         \u001B[38;5;28mself\u001B[39m._bound_context.function_call_options.as_attrs(),\n\u001B[32m    261\u001B[39m     )\n",
      "\u001B[36mFile \u001B[39m\u001B[32m~/PyCharmMiscProject/.venv/lib/python3.12/site-packages/tensorflow/python/eager/context.py:1688\u001B[39m, in \u001B[36mContext.call_function\u001B[39m\u001B[34m(self, name, tensor_inputs, num_outputs)\u001B[39m\n\u001B[32m   1686\u001B[39m cancellation_context = cancellation.context()\n\u001B[32m   1687\u001B[39m \u001B[38;5;28;01mif\u001B[39;00m cancellation_context \u001B[38;5;129;01mis\u001B[39;00m \u001B[38;5;28;01mNone\u001B[39;00m:\n\u001B[32m-> \u001B[39m\u001B[32m1688\u001B[39m   outputs = \u001B[43mexecute\u001B[49m\u001B[43m.\u001B[49m\u001B[43mexecute\u001B[49m\u001B[43m(\u001B[49m\n\u001B[32m   1689\u001B[39m \u001B[43m      \u001B[49m\u001B[43mname\u001B[49m\u001B[43m.\u001B[49m\u001B[43mdecode\u001B[49m\u001B[43m(\u001B[49m\u001B[33;43m\"\u001B[39;49m\u001B[33;43mutf-8\u001B[39;49m\u001B[33;43m\"\u001B[39;49m\u001B[43m)\u001B[49m\u001B[43m,\u001B[49m\n\u001B[32m   1690\u001B[39m \u001B[43m      \u001B[49m\u001B[43mnum_outputs\u001B[49m\u001B[43m=\u001B[49m\u001B[43mnum_outputs\u001B[49m\u001B[43m,\u001B[49m\n\u001B[32m   1691\u001B[39m \u001B[43m      \u001B[49m\u001B[43minputs\u001B[49m\u001B[43m=\u001B[49m\u001B[43mtensor_inputs\u001B[49m\u001B[43m,\u001B[49m\n\u001B[32m   1692\u001B[39m \u001B[43m      \u001B[49m\u001B[43mattrs\u001B[49m\u001B[43m=\u001B[49m\u001B[43mattrs\u001B[49m\u001B[43m,\u001B[49m\n\u001B[32m   1693\u001B[39m \u001B[43m      \u001B[49m\u001B[43mctx\u001B[49m\u001B[43m=\u001B[49m\u001B[38;5;28;43mself\u001B[39;49m\u001B[43m,\u001B[49m\n\u001B[32m   1694\u001B[39m \u001B[43m  \u001B[49m\u001B[43m)\u001B[49m\n\u001B[32m   1695\u001B[39m \u001B[38;5;28;01melse\u001B[39;00m:\n\u001B[32m   1696\u001B[39m   outputs = execute.execute_with_cancellation(\n\u001B[32m   1697\u001B[39m       name.decode(\u001B[33m\"\u001B[39m\u001B[33mutf-8\u001B[39m\u001B[33m\"\u001B[39m),\n\u001B[32m   1698\u001B[39m       num_outputs=num_outputs,\n\u001B[32m   (...)\u001B[39m\u001B[32m   1702\u001B[39m       cancellation_manager=cancellation_context,\n\u001B[32m   1703\u001B[39m   )\n",
      "\u001B[36mFile \u001B[39m\u001B[32m~/PyCharmMiscProject/.venv/lib/python3.12/site-packages/tensorflow/python/eager/execute.py:53\u001B[39m, in \u001B[36mquick_execute\u001B[39m\u001B[34m(op_name, num_outputs, inputs, attrs, ctx, name)\u001B[39m\n\u001B[32m     51\u001B[39m \u001B[38;5;28;01mtry\u001B[39;00m:\n\u001B[32m     52\u001B[39m   ctx.ensure_initialized()\n\u001B[32m---> \u001B[39m\u001B[32m53\u001B[39m   tensors = \u001B[43mpywrap_tfe\u001B[49m\u001B[43m.\u001B[49m\u001B[43mTFE_Py_Execute\u001B[49m\u001B[43m(\u001B[49m\u001B[43mctx\u001B[49m\u001B[43m.\u001B[49m\u001B[43m_handle\u001B[49m\u001B[43m,\u001B[49m\u001B[43m \u001B[49m\u001B[43mdevice_name\u001B[49m\u001B[43m,\u001B[49m\u001B[43m \u001B[49m\u001B[43mop_name\u001B[49m\u001B[43m,\u001B[49m\n\u001B[32m     54\u001B[39m \u001B[43m                                      \u001B[49m\u001B[43minputs\u001B[49m\u001B[43m,\u001B[49m\u001B[43m \u001B[49m\u001B[43mattrs\u001B[49m\u001B[43m,\u001B[49m\u001B[43m \u001B[49m\u001B[43mnum_outputs\u001B[49m\u001B[43m)\u001B[49m\n\u001B[32m     55\u001B[39m \u001B[38;5;28;01mexcept\u001B[39;00m core._NotOkStatusException \u001B[38;5;28;01mas\u001B[39;00m e:\n\u001B[32m     56\u001B[39m   \u001B[38;5;28;01mif\u001B[39;00m name \u001B[38;5;129;01mis\u001B[39;00m \u001B[38;5;129;01mnot\u001B[39;00m \u001B[38;5;28;01mNone\u001B[39;00m:\n",
      "\u001B[31mKeyboardInterrupt\u001B[39m: "
     ]
    }
   ],
   "source": [
    "\n",
    "model.compile(optimizer=opt,\n",
    "              #loss='mean_squared_error',\n",
    "              loss='categorical_crossentropy',\n",
    "              metrics=['accuracy'])\n",
    "\n",
    "history = model.fit(x_train, train_vec_labels, validation_data=(x_test, test_vec_labels), epochs=15, batch_size=8, verbose=True)\n",
    "     "
   ]
  },
  {
   "cell_type": "code",
   "execution_count": null,
   "id": "38a5e472-0d11-420a-a73e-7fa0bfec9fec",
   "metadata": {},
   "outputs": [],
   "source": [
    "\n",
    "plt.plot(history.history['accuracy'],'o--')\n",
    "plt.plot(history.history['val_accuracy'],'o--')\n",
    "plt.title('model accuracy')\n",
    "plt.ylabel('accuracy')\n",
    "plt.xlabel('epoch')\n",
    "plt.legend(['train', 'test'], loc='upper left')\n",
    "plt.show()"
   ]
  },
  {
   "cell_type": "code",
   "execution_count": null,
   "id": "b65f3ed2-27a6-488f-b674-68f59ab2309a",
   "metadata": {},
   "outputs": [],
   "source": [
    "\n",
    "eval_loss, eval_accuracy = model.evaluate(x_test, test_vec_labels)\n",
    "print(\"Model accuracy: %.2f\" % eval_accuracy)"
   ]
  },
  {
   "cell_type": "code",
   "execution_count": null,
   "id": "6cbe79e8-c7f2-43be-8d6e-eed13ebb9e01",
   "metadata": {},
   "outputs": [],
   "source": []
  },
  {
   "cell_type": "code",
   "execution_count": null,
   "id": "21cbe6cf-0bf7-49a4-b51d-20975b596ee6",
   "metadata": {},
   "outputs": [],
   "source": [
    "opt = keras.optimizers.SGD(\n",
    "      learning_rate=0.01,\n",
    "      weight_decay=1e-6,\n",
    "      momentum=0.9)\n",
    "model.compile(optimizer=opt,\n",
    "              #loss='mean_squared_error',\n",
    "              loss='categorical_crossentropy',\n",
    "              metrics=['accuracy'])\n",
    "\n",
    "history = model.fit(x_train, train_vec_labels, validation_data=(x_test, test_vec_labels), epochs=15, batch_size=128, verbose=True)\n",
    "     "
   ]
  },
  {
   "cell_type": "code",
   "execution_count": null,
   "id": "e0ab5dab-044d-45b8-a5a3-483e176ccc8f",
   "metadata": {},
   "outputs": [],
   "source": [
    "\n",
    "plt.plot(history.history['accuracy'],'o--')\n",
    "plt.plot(history.history['val_accuracy'],'o--')\n",
    "plt.title('model accuracy')\n",
    "plt.ylabel('accuracy')\n",
    "plt.xlabel('epoch')\n",
    "plt.legend(['train', 'test'], loc='upper left')\n",
    "plt.show()"
   ]
  },
  {
   "cell_type": "code",
   "execution_count": null,
   "id": "004bf2e7-711a-4622-a20f-56f792aefab0",
   "metadata": {},
   "outputs": [],
   "source": [
    "\n",
    "eval_loss, eval_accuracy = model.evaluate(x_test, test_vec_labels)\n",
    "print(\"Model accuracy: %.2f\" % eval_accuracy)"
   ]
  },
  {
   "cell_type": "code",
   "execution_count": null,
   "id": "acf1708d-16fd-45a7-8e69-cfa61b37d7e1",
   "metadata": {},
   "outputs": [],
   "source": [
    "opt = keras.optimizers.SGD(\n",
    "      learning_rate=0.01,\n",
    "      weight_decay=1e-6,\n",
    "      momentum=0.9)\n",
    "model.compile(optimizer=opt,\n",
    "              #loss='mean_squared_error',\n",
    "              loss='categorical_crossentropy',\n",
    "              metrics=['accuracy'])\n",
    "history = model.fit(x_train, train_vec_labels, validation_data=(x_test, test_vec_labels), epochs=15, batch_size=8, verbose=True)\n",
    "     "
   ]
  },
  {
   "cell_type": "code",
   "execution_count": null,
   "id": "d3317099-8f69-49ae-9049-aedd24ddee18",
   "metadata": {},
   "outputs": [],
   "source": [
    "\n",
    "plt.plot(history.history['accuracy'],'o--')\n",
    "plt.plot(history.history['val_accuracy'],'o--')\n",
    "plt.title('model accuracy')\n",
    "plt.ylabel('accuracy')\n",
    "plt.xlabel('epoch')\n",
    "plt.legend(['train', 'test'], loc='upper left')\n",
    "plt.show()"
   ]
  },
  {
   "cell_type": "code",
   "execution_count": null,
   "id": "82a478ed-5208-4394-9011-2c027ca9f554",
   "metadata": {},
   "outputs": [],
   "source": [
    "\n",
    "eval_loss, eval_accuracy = model.evaluate(x_test, test_vec_labels)\n",
    "print(\"Model accuracy: %.2f\" % eval_accuracy)"
   ]
  },
  {
   "cell_type": "code",
   "execution_count": null,
   "id": "29b774c9-5df5-4fb1-9ce6-665aa951c263",
   "metadata": {},
   "outputs": [],
   "source": [
    "opt = keras.optimizers.SGD(\n",
    "      learning_rate=0.05,\n",
    "      weight_decay=1e-6,\n",
    "      momentum=0.9)\n",
    "model.compile(optimizer=opt,\n",
    "              #loss='mean_squared_error',\n",
    "              loss='categorical_crossentropy',\n",
    "              metrics=['accuracy'])\n",
    "history = model.fit(x_train, train_vec_labels, validation_data=(x_test, test_vec_labels), epochs=15, batch_size=32, verbose=True)\n",
    "     "
   ]
  },
  {
   "cell_type": "code",
   "execution_count": null,
   "id": "58fa8912-28ff-4c03-bd12-db52da0ef4ce",
   "metadata": {},
   "outputs": [],
   "source": [
    "\n",
    "plt.plot(history.history['accuracy'],'o--')\n",
    "plt.plot(history.history['val_accuracy'],'o--')\n",
    "plt.title('model accuracy')\n",
    "plt.ylabel('accuracy')\n",
    "plt.xlabel('epoch')\n",
    "plt.legend(['train', 'test'], loc='upper left')\n",
    "plt.show()"
   ]
  },
  {
   "cell_type": "code",
   "execution_count": null,
   "id": "4b7008b5-9d96-4e26-9ecb-5fd0cdff635a",
   "metadata": {},
   "outputs": [],
   "source": [
    "\n",
    "eval_loss, eval_accuracy = model.evaluate(x_test, test_vec_labels)\n",
    "print(\"Model accuracy: %.2f\" % eval_accuracy)\n"
   ]
  },
  {
   "cell_type": "code",
   "execution_count": null,
   "id": "a93bfb5f-d5c9-4be0-b979-2304dfa94361",
   "metadata": {},
   "outputs": [],
   "source": [
    "opt = keras.optimizers.SGD(\n",
    "      learning_rate=0.01,\n",
    "      weight_decay=1e-6,\n",
    "      momentum=0.9)\n",
    "model.compile(optimizer=opt,\n",
    "              #loss='mean_squared_error',\n",
    "              loss='categorical_crossentropy',\n",
    "              metrics=['accuracy'])\n",
    "history = model.fit(x_train, train_vec_labels, validation_data=(x_test, test_vec_labels), epochs=25, batch_size=8, verbose=True)\n",
    "     "
   ]
  },
  {
   "cell_type": "code",
   "execution_count": null,
   "id": "e4852028-45e7-4f1e-ab4a-093604656ea4",
   "metadata": {},
   "outputs": [],
   "source": [
    "\n",
    "plt.plot(history.history['accuracy'],'o--')\n",
    "plt.plot(history.history['val_accuracy'],'o--')\n",
    "plt.title('model accuracy')\n",
    "plt.ylabel('accuracy')\n",
    "plt.xlabel('epoch')\n",
    "plt.legend(['train', 'test'], loc='upper left')\n",
    "plt.show()"
   ]
  },
  {
   "cell_type": "code",
   "execution_count": null,
   "id": "60e5f334-fac9-42fd-a5e1-f84dfd75f0f8",
   "metadata": {},
   "outputs": [],
   "source": [
    "opt = keras.optimizers.SGD(\n",
    "      learning_rate=0.01,\n",
    "      weight_decay=1e-9,\n",
    "      momentum=0.9)\n",
    "model.compile(optimizer=opt,\n",
    "              #loss='mean_squared_error',\n",
    "              loss='categorical_crossentropy',\n",
    "              metrics=['accuracy'])\n",
    "history = model.fit(x_train, train_vec_labels, validation_data=(x_test, test_vec_labels), epochs=25, batch_size=8, verbose=True)\n",
    "     "
   ]
  },
  {
   "cell_type": "code",
   "execution_count": null,
   "id": "48475348-512c-44f2-a34f-b60d8c38d73d",
   "metadata": {},
   "outputs": [],
   "source": [
    "\n",
    "plt.plot(history.history['accuracy'],'o--')\n",
    "plt.plot(history.history['val_accuracy'],'o--')\n",
    "plt.title('model accuracy')\n",
    "plt.ylabel('accuracy')\n",
    "plt.xlabel('epoch')\n",
    "plt.legend(['train', 'test'], loc='upper left')\n",
    "plt.show()"
   ]
  },
  {
   "cell_type": "code",
   "execution_count": null,
   "id": "f49d81d6-99d4-4092-9ae4-5d3bc045799b",
   "metadata": {},
   "outputs": [],
   "source": [
    "\n",
    "eval_loss, eval_accuracy = model.evaluate(x_test, test_vec_labels)\n",
    "print(\"Model accuracy: %.2f\" % eval_accuracy)"
   ]
  },
  {
   "cell_type": "raw",
   "id": "dde16360-b4ac-47b8-ba84-cd7a4434cfa8",
   "metadata": {},
   "source": [
    "Wenig Punkte"
   ]
  },
  {
   "cell_type": "code",
   "execution_count": null,
   "id": "ad9b950a-d6b6-43e7-83e4-7c7cb3221252",
   "metadata": {},
   "outputs": [],
   "source": [
    "model = Sequential([\n",
    " Flatten(input_shape=(32,32, 3)),\n",
    " Dense(128, activation='tanh'),\n",
    " Dense(64, activation='tanh'),\n",
    " Dense(2, activation='softmax')\n",
    "])\n",
    "model.summary()"
   ]
  },
  {
   "cell_type": "code",
   "execution_count": null,
   "id": "231c6719-513d-4b5c-bc0a-caa0af8cb1e4",
   "metadata": {},
   "outputs": [],
   "source": [
    "opt = keras.optimizers.SGD(\n",
    "      learning_rate=0.01,\n",
    "      weight_decay=1e-9,\n",
    "      momentum=0.9)\n",
    "model.compile(optimizer=opt,\n",
    "              #loss='mean_squared_error',\n",
    "              loss='categorical_crossentropy',\n",
    "              metrics=['accuracy'])\n",
    "history = model.fit(x_train, train_vec_labels, validation_data=(x_test, test_vec_labels), epochs=20, batch_size=8, verbose=True)\n",
    "     "
   ]
  },
  {
   "cell_type": "code",
   "execution_count": null,
   "id": "45da57b7-20ae-4d40-8a76-735d332e10ef",
   "metadata": {},
   "outputs": [],
   "source": [
    "\n",
    "plt.plot(history.history['accuracy'],'o--')\n",
    "plt.plot(history.history['val_accuracy'],'o--')\n",
    "plt.title('model accuracy')\n",
    "plt.ylabel('accuracy')\n",
    "plt.xlabel('epoch')\n",
    "plt.legend(['train', 'test'], loc='upper left')\n",
    "plt.show()"
   ]
  },
  {
   "cell_type": "code",
   "execution_count": null,
   "id": "ccc3fa95-34b4-4db4-b177-f3d7d7e91f16",
   "metadata": {},
   "outputs": [],
   "source": [
    "\n",
    "eval_loss, eval_accuracy = model.evaluate(x_test, test_vec_labels)\n",
    "print(\"Model accuracy: %.2f\" % eval_accuracy)"
   ]
  },
  {
   "cell_type": "code",
   "execution_count": null,
   "id": "2aa148cd-a7c8-4d25-a201-19bb0fd16877",
   "metadata": {},
   "outputs": [],
   "source": [
    "opt = keras.optimizers.SGD(\n",
    "      learning_rate=0.01,\n",
    "      weight_decay=1e-9,\n",
    "      momentum=0.9)\n",
    "model.compile(optimizer=opt,\n",
    "              #loss='mean_squared_error',\n",
    "              loss='categorical_crossentropy',\n",
    "              metrics=['accuracy'])\n",
    "history = model.fit(x_train, train_vec_labels, validation_data=(x_test, test_vec_labels), epochs=20, batch_size=64, verbose=True)\n",
    "     "
   ]
  },
  {
   "cell_type": "code",
   "execution_count": null,
   "id": "b9f79a24-2a41-4955-bce8-95b478ed3ae3",
   "metadata": {},
   "outputs": [],
   "source": [
    "plt.plot(history.history['accuracy'],'o--')\n",
    "plt.plot(history.history['val_accuracy'],'o--')\n",
    "plt.title('model accuracy')\n",
    "plt.ylabel('accuracy')\n",
    "plt.xlabel('epoch')\n",
    "plt.legend(['train', 'test'], loc='upper left')\n",
    "plt.show()"
   ]
  },
  {
   "cell_type": "code",
   "execution_count": null,
   "id": "78fd33d9-a346-4932-af0e-81685a7bc24b",
   "metadata": {},
   "outputs": [],
   "source": [
    "\n",
    "eval_loss, eval_accuracy = model.evaluate(x_test, test_vec_labels)\n",
    "print(\"Model accuracy: %.2f\" % eval_accuracy)"
   ]
  },
  {
   "cell_type": "code",
   "execution_count": null,
   "id": "10b84673-a1d6-414b-9616-f41b4a3f12fa",
   "metadata": {},
   "outputs": [],
   "source": [
    "opt = keras.optimizers.SGD(\n",
    "      learning_rate=0.01,\n",
    "      weight_decay=1e-9,\n",
    "      momentum=0.9)\n",
    "model.compile(optimizer=opt,\n",
    "              #loss='mean_squared_error',\n",
    "              loss='categorical_crossentropy',\n",
    "              metrics=['accuracy'])\n",
    "history = model.fit(x_train, train_vec_labels, validation_data=(x_test, test_vec_labels), epochs=20, batch_size=32, verbose=True)\n",
    "     "
   ]
  },
  {
   "cell_type": "code",
   "execution_count": null,
   "id": "7ac3c928-5725-48b5-8b1b-e8bba1f9fb27",
   "metadata": {},
   "outputs": [],
   "source": [
    "plt.plot(history.history['accuracy'],'o--')\n",
    "plt.plot(history.history['val_accuracy'],'o--')\n",
    "plt.title('model accuracy')\n",
    "plt.ylabel('accuracy')\n",
    "plt.xlabel('epoch')\n",
    "plt.legend(['train', 'test'], loc='upper left')\n",
    "plt.show()"
   ]
  },
  {
   "cell_type": "code",
   "execution_count": null,
   "id": "64c7c232-92c1-4b11-8cfb-e10321719e9a",
   "metadata": {},
   "outputs": [],
   "source": [
    "\n",
    "eval_loss, eval_accuracy = model.evaluate(x_test, test_vec_labels)\n",
    "print(\"Model accuracy: %.2f\" % eval_accuracy)"
   ]
  },
  {
   "cell_type": "code",
   "execution_count": null,
   "id": "fa56c54b-9d2e-4e24-bea5-50cd1ff5360c",
   "metadata": {},
   "outputs": [],
   "source": [
    "opt = keras.optimizers.SGD(\n",
    "      learning_rate=0.01,\n",
    "      weight_decay=1e-9,\n",
    "      momentum=0.9)\n",
    "model.compile(optimizer=opt,\n",
    "              loss='mean_squared_error',\n",
    "              #loss='categorical_crossentropy',\n",
    "              metrics=['accuracy'])\n",
    "history = model.fit(x_train, train_vec_labels, validation_data=(x_test, test_vec_labels), epochs=50, batch_size=32, verbose=True)\n",
    "     "
   ]
  },
  {
   "cell_type": "code",
   "execution_count": null,
   "id": "13d02564-b404-4dbd-a60d-6e6272f85075",
   "metadata": {},
   "outputs": [],
   "source": [
    "plt.plot(history.history['accuracy'],'o--')\n",
    "plt.plot(history.history['val_accuracy'],'o--')\n",
    "plt.title('model accuracy')\n",
    "plt.ylabel('accuracy')\n",
    "plt.xlabel('epoch')\n",
    "plt.legend(['train', 'test'], loc='upper left')\n",
    "plt.show()"
   ]
  },
  {
   "cell_type": "code",
   "execution_count": null,
   "id": "a1f0e254-29c1-4c32-addc-3b6b6eb18191",
   "metadata": {},
   "outputs": [],
   "source": [
    "\n",
    "eval_loss, eval_accuracy = model.evaluate(x_test, test_vec_labels)\n",
    "print(\"Model accuracy: %.2f\" % eval_accuracy)"
   ]
  },
  {
   "cell_type": "code",
   "execution_count": null,
   "id": "376a03b3-f0c3-4c74-9e0c-2eee5b132cc6",
   "metadata": {},
   "outputs": [],
   "source": [
    "model = Sequential([\n",
    " Flatten(input_shape=(32,32, 3)),\n",
    " Dense(128, activation='elu'),\n",
    " Dense(64, activation='tanh'),\n",
    " Dense(2, activation='softmax')\n",
    "])\n",
    "model.summary()"
   ]
  },
  {
   "cell_type": "code",
   "execution_count": null,
   "id": "40031fcf-a59c-4558-9013-880f8b6cd4ab",
   "metadata": {},
   "outputs": [],
   "source": [
    "opt = keras.optimizers.SGD(\n",
    "      learning_rate=0.01,\n",
    "      weight_decay=1e-9,\n",
    "      momentum=0.9)\n",
    "model.compile(optimizer=opt,\n",
    "              loss='mean_squared_error',\n",
    "              loss='categorical_crossentropy',\n",
    "              metrics=['accuracy'])\n",
    "history = model.fit(x_train, train_vec_labels, validation_data=(x_test, test_vec_labels), epochs=20, batch_size=32, verbose=True)\n",
    "     "
   ]
  },
  {
   "cell_type": "code",
   "execution_count": null,
   "id": "6965a640-8025-45de-a5f8-bd2757e0232d",
   "metadata": {},
   "outputs": [],
   "source": [
    "plt.plot(history.history['accuracy'],'o--')\n",
    "plt.plot(history.history['val_accuracy'],'o--')\n",
    "plt.title('model accuracy')\n",
    "plt.ylabel('accuracy')\n",
    "plt.xlabel('epoch')\n",
    "plt.legend(['train', 'test'], loc='upper left')\n",
    "plt.show()"
   ]
  },
  {
   "cell_type": "code",
   "execution_count": null,
   "id": "6fd7e595-449b-4e18-9245-33024b0b2c29",
   "metadata": {},
   "outputs": [],
   "source": [
    "\n",
    "eval_loss, eval_accuracy = model.evaluate(x_test, test_vec_labels)\n",
    "print(\"Model accuracy: %.2f\" % eval_accuracy)"
   ]
  },
  {
   "cell_type": "code",
   "execution_count": null,
   "id": "b350cc87-fe51-4727-a437-ea5e2cc2fff5",
   "metadata": {},
   "outputs": [],
   "source": [
    "activations = ['sigmoid', 'relu', 'elu', 'tanh']\n",
    "hist_act = {}\n",
    "for act in activations:\n",
    "    m = Sequential([layers.Flatten(input_shape=(32,32.,3)), layers.Dense(128, activation=act), layers.Dense(10, activation='softmax')])\n",
    "    m.compile(optimizer='sgd', loss='categorical_crossentropy', metrics=['accuracy'])\n",
    "    h = m.fit(x_train, train_vec_labels, validation_data=(x_test,test_vec_labels), epochs=10, batch_size=32, verbose=0)\n",
    "    hist_act[act] = h.history['val_accuracy'][-1]"
   ]
  },
  {
   "cell_type": "code",
   "execution_count": null,
   "id": "6c2876a5-7c63-4e7f-89aa-c3e1db0ae30a",
   "metadata": {},
   "outputs": [],
   "source": [
    "model = sequential([\n",
    "    layers.Flatten(input_shape=(32, 32)),\n",
    "    layers.Dense(128, activation='relu'),\n",
    "    layers.Dense(2, activation='softmax')\n",
    "])"
   ]
  },
  {
   "cell_type": "code",
   "execution_count": null,
   "id": "ef94000f-1733-44d1-a4a3-14ca67af09cc",
   "metadata": {},
   "outputs": [],
   "source": [
    "model.summary()"
   ]
  },
  {
   "cell_type": "code",
   "execution_count": null,
   "id": "93495064-a823-47a7-919f-e908d9c6f115",
   "metadata": {},
   "outputs": [],
   "source": [
    "model.compile(\n",
    "    optimizer='sgd',\n",
    "    loss='categorical_crossentropy',\n",
    "    metrics=['accuracy']\n",
    ")"
   ]
  },
  {
   "cell_type": "code",
   "execution_count": null,
   "id": "9a76c9bd-6aea-4ac5-af46-fcbb48410e7d",
   "metadata": {},
   "outputs": [],
   "source": [
    "history = model.fit(\n",
    "    x_train, train_vec_labels,\n",
    "    validation_data=(x_test, test_vec_labels),\n",
    "    epochs=10,\n",
    "    batch_size=32,\n",
    "    verbose=1\n",
    ")"
   ]
  },
  {
   "cell_type": "code",
   "execution_count": null,
   "id": "285e83a7-eb5d-4247-914c-d331500d8a12",
   "metadata": {},
   "outputs": [],
   "source": []
  },
  {
   "cell_type": "code",
   "execution_count": null,
   "id": "e3f5c60f-f683-4315-9ab4-e329f140d9a8",
   "metadata": {},
   "outputs": [],
   "source": []
  },
  {
   "cell_type": "code",
   "execution_count": null,
   "id": "dc2ffbef-12c8-465b-8f24-368a34382315",
   "metadata": {},
   "outputs": [],
   "source": []
  },
  {
   "cell_type": "code",
   "execution_count": null,
   "id": "a14421de-1ec3-44ed-a3e2-e22b3caf749f",
   "metadata": {},
   "outputs": [],
   "source": []
  }
 ],
 "metadata": {
  "kernelspec": {
   "display_name": "Python 3 (ipykernel)",
   "language": "python",
   "name": "python3"
  },
  "language_info": {
   "codemirror_mode": {
    "name": "ipython",
    "version": 3
   },
   "file_extension": ".py",
   "mimetype": "text/x-python",
   "name": "python",
   "nbconvert_exporter": "python",
   "pygments_lexer": "ipython3",
   "version": "3.12.3"
  }
 },
 "nbformat": 4,
 "nbformat_minor": 5
}
